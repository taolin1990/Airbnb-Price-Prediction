{
 "cells": [
  {
   "cell_type": "code",
   "execution_count": 78,
   "metadata": {},
   "outputs": [],
   "source": [
    "import numpy as np\n",
    "import pandas as pd\n",
    "\n",
    "import matplotlib.pyplot as plt\n",
    "import seaborn as sns"
   ]
  },
  {
   "cell_type": "markdown",
   "metadata": {},
   "source": [
    "### Part 1: read and clean the data"
   ]
  },
  {
   "cell_type": "code",
   "execution_count": 79,
   "metadata": {
    "scrolled": false
   },
   "outputs": [
    {
     "data": {
      "text/html": [
       "<div>\n",
       "<style scoped>\n",
       "    .dataframe tbody tr th:only-of-type {\n",
       "        vertical-align: middle;\n",
       "    }\n",
       "\n",
       "    .dataframe tbody tr th {\n",
       "        vertical-align: top;\n",
       "    }\n",
       "\n",
       "    .dataframe thead th {\n",
       "        text-align: right;\n",
       "    }\n",
       "</style>\n",
       "<table border=\"1\" class=\"dataframe\">\n",
       "  <thead>\n",
       "    <tr style=\"text-align: right;\">\n",
       "      <th></th>\n",
       "      <th>id</th>\n",
       "      <th>listing_url</th>\n",
       "      <th>description</th>\n",
       "      <th>picture_url</th>\n",
       "      <th>host_is_superhost</th>\n",
       "      <th>host_has_profile_pic</th>\n",
       "      <th>host_identity_verified</th>\n",
       "      <th>neighbourhood</th>\n",
       "      <th>latitude</th>\n",
       "      <th>longitude</th>\n",
       "      <th>...</th>\n",
       "      <th>beds</th>\n",
       "      <th>bed_type</th>\n",
       "      <th>guests_included</th>\n",
       "      <th>minimum_nights</th>\n",
       "      <th>number_of_reviews</th>\n",
       "      <th>requires_license</th>\n",
       "      <th>instant_bookable</th>\n",
       "      <th>require_guest_profile_picture</th>\n",
       "      <th>require_guest_phone_verification</th>\n",
       "      <th>price</th>\n",
       "    </tr>\n",
       "  </thead>\n",
       "  <tbody>\n",
       "    <tr>\n",
       "      <th>0</th>\n",
       "      <td>16039481</td>\n",
       "      <td>https://www.airbnb.com/rooms/16039481</td>\n",
       "      <td>This gorgeous penthouse will have you living l...</td>\n",
       "      <td>https://a0.muscache.com/im/pictures/b3a20d13-8...</td>\n",
       "      <td>f</td>\n",
       "      <td>t</td>\n",
       "      <td>f</td>\n",
       "      <td>The Annex</td>\n",
       "      <td>43.67052</td>\n",
       "      <td>-79.39405</td>\n",
       "      <td>...</td>\n",
       "      <td>4.0</td>\n",
       "      <td>Real Bed</td>\n",
       "      <td>1</td>\n",
       "      <td>1</td>\n",
       "      <td>0</td>\n",
       "      <td>f</td>\n",
       "      <td>f</td>\n",
       "      <td>f</td>\n",
       "      <td>f</td>\n",
       "      <td>$13,078.00</td>\n",
       "    </tr>\n",
       "    <tr>\n",
       "      <th>1</th>\n",
       "      <td>20653172</td>\n",
       "      <td>https://www.airbnb.com/rooms/20653172</td>\n",
       "      <td>Modern unit in a brand new, desirable building...</td>\n",
       "      <td>https://a0.muscache.com/im/pictures/991ec089-c...</td>\n",
       "      <td>f</td>\n",
       "      <td>t</td>\n",
       "      <td>f</td>\n",
       "      <td>Downtown Toronto</td>\n",
       "      <td>43.64906</td>\n",
       "      <td>-79.39130</td>\n",
       "      <td>...</td>\n",
       "      <td>1.0</td>\n",
       "      <td>Real Bed</td>\n",
       "      <td>1</td>\n",
       "      <td>2</td>\n",
       "      <td>4</td>\n",
       "      <td>f</td>\n",
       "      <td>f</td>\n",
       "      <td>f</td>\n",
       "      <td>f</td>\n",
       "      <td>$13,000.00</td>\n",
       "    </tr>\n",
       "    <tr>\n",
       "      <th>2</th>\n",
       "      <td>34470470</td>\n",
       "      <td>https://www.airbnb.com/rooms/34470470</td>\n",
       "      <td>Professionally decorated home in an upscale bu...</td>\n",
       "      <td>https://a0.muscache.com/im/pictures/6b94ec44-a...</td>\n",
       "      <td>f</td>\n",
       "      <td>t</td>\n",
       "      <td>f</td>\n",
       "      <td>Harbourfront</td>\n",
       "      <td>43.64143</td>\n",
       "      <td>-79.37968</td>\n",
       "      <td>...</td>\n",
       "      <td>2.0</td>\n",
       "      <td>Real Bed</td>\n",
       "      <td>2</td>\n",
       "      <td>2</td>\n",
       "      <td>10</td>\n",
       "      <td>f</td>\n",
       "      <td>f</td>\n",
       "      <td>f</td>\n",
       "      <td>f</td>\n",
       "      <td>$9,999.00</td>\n",
       "    </tr>\n",
       "    <tr>\n",
       "      <th>3</th>\n",
       "      <td>34471108</td>\n",
       "      <td>https://www.airbnb.com/rooms/34471108</td>\n",
       "      <td>Welcome to my condo! Just steps away you'll fi...</td>\n",
       "      <td>https://a0.muscache.com/im/pictures/18490331-0...</td>\n",
       "      <td>f</td>\n",
       "      <td>t</td>\n",
       "      <td>f</td>\n",
       "      <td>Entertainment District</td>\n",
       "      <td>43.64358</td>\n",
       "      <td>-79.38160</td>\n",
       "      <td>...</td>\n",
       "      <td>3.0</td>\n",
       "      <td>Real Bed</td>\n",
       "      <td>4</td>\n",
       "      <td>2</td>\n",
       "      <td>20</td>\n",
       "      <td>f</td>\n",
       "      <td>f</td>\n",
       "      <td>f</td>\n",
       "      <td>f</td>\n",
       "      <td>$9,999.00</td>\n",
       "    </tr>\n",
       "    <tr>\n",
       "      <th>4</th>\n",
       "      <td>36042527</td>\n",
       "      <td>https://www.airbnb.com/rooms/36042527</td>\n",
       "      <td>Near the CN tower , eaton centre and other var...</td>\n",
       "      <td>https://a0.muscache.com/im/pictures/25c15266-a...</td>\n",
       "      <td>f</td>\n",
       "      <td>t</td>\n",
       "      <td>f</td>\n",
       "      <td>South Hill/Rathnelly</td>\n",
       "      <td>43.68207</td>\n",
       "      <td>-79.40405</td>\n",
       "      <td>...</td>\n",
       "      <td>6.0</td>\n",
       "      <td>Real Bed</td>\n",
       "      <td>1</td>\n",
       "      <td>4</td>\n",
       "      <td>0</td>\n",
       "      <td>f</td>\n",
       "      <td>t</td>\n",
       "      <td>f</td>\n",
       "      <td>f</td>\n",
       "      <td>$9,999.00</td>\n",
       "    </tr>\n",
       "  </tbody>\n",
       "</table>\n",
       "<p>5 rows × 23 columns</p>\n",
       "</div>"
      ],
      "text/plain": [
       "         id                            listing_url  \\\n",
       "0  16039481  https://www.airbnb.com/rooms/16039481   \n",
       "1  20653172  https://www.airbnb.com/rooms/20653172   \n",
       "2  34470470  https://www.airbnb.com/rooms/34470470   \n",
       "3  34471108  https://www.airbnb.com/rooms/34471108   \n",
       "4  36042527  https://www.airbnb.com/rooms/36042527   \n",
       "\n",
       "                                         description  \\\n",
       "0  This gorgeous penthouse will have you living l...   \n",
       "1  Modern unit in a brand new, desirable building...   \n",
       "2  Professionally decorated home in an upscale bu...   \n",
       "3  Welcome to my condo! Just steps away you'll fi...   \n",
       "4  Near the CN tower , eaton centre and other var...   \n",
       "\n",
       "                                         picture_url host_is_superhost  \\\n",
       "0  https://a0.muscache.com/im/pictures/b3a20d13-8...                 f   \n",
       "1  https://a0.muscache.com/im/pictures/991ec089-c...                 f   \n",
       "2  https://a0.muscache.com/im/pictures/6b94ec44-a...                 f   \n",
       "3  https://a0.muscache.com/im/pictures/18490331-0...                 f   \n",
       "4  https://a0.muscache.com/im/pictures/25c15266-a...                 f   \n",
       "\n",
       "  host_has_profile_pic host_identity_verified           neighbourhood  \\\n",
       "0                    t                      f               The Annex   \n",
       "1                    t                      f        Downtown Toronto   \n",
       "2                    t                      f            Harbourfront   \n",
       "3                    t                      f  Entertainment District   \n",
       "4                    t                      f    South Hill/Rathnelly   \n",
       "\n",
       "   latitude  longitude  ... beds  bed_type  guests_included  minimum_nights  \\\n",
       "0  43.67052  -79.39405  ...  4.0  Real Bed                1               1   \n",
       "1  43.64906  -79.39130  ...  1.0  Real Bed                1               2   \n",
       "2  43.64143  -79.37968  ...  2.0  Real Bed                2               2   \n",
       "3  43.64358  -79.38160  ...  3.0  Real Bed                4               2   \n",
       "4  43.68207  -79.40405  ...  6.0  Real Bed                1               4   \n",
       "\n",
       "  number_of_reviews  requires_license  instant_bookable  \\\n",
       "0                 0                 f                 f   \n",
       "1                 4                 f                 f   \n",
       "2                10                 f                 f   \n",
       "3                20                 f                 f   \n",
       "4                 0                 f                 t   \n",
       "\n",
       "   require_guest_profile_picture require_guest_phone_verification       price  \n",
       "0                              f                                f  $13,078.00  \n",
       "1                              f                                f  $13,000.00  \n",
       "2                              f                                f   $9,999.00  \n",
       "3                              f                                f   $9,999.00  \n",
       "4                              f                                f   $9,999.00  \n",
       "\n",
       "[5 rows x 23 columns]"
      ]
     },
     "execution_count": 79,
     "metadata": {},
     "output_type": "execute_result"
    }
   ],
   "source": [
    "# loading files\n",
    "\n",
    "df_2019=pd.read_csv(\"data/2019_Summer_Listings_Detail.csv\")\n",
    "df_2019.head()"
   ]
  },
  {
   "cell_type": "code",
   "execution_count": 80,
   "metadata": {},
   "outputs": [
    {
     "data": {
      "text/plain": [
       "(21312, 23)"
      ]
     },
     "execution_count": 80,
     "metadata": {},
     "output_type": "execute_result"
    }
   ],
   "source": [
    "# checking the shape of both datasets\n",
    "df_2019.shape"
   ]
  },
  {
   "cell_type": "code",
   "execution_count": 81,
   "metadata": {},
   "outputs": [
    {
     "name": "stdout",
     "output_type": "stream",
     "text": [
      "<class 'pandas.core.frame.DataFrame'>\n",
      "RangeIndex: 21312 entries, 0 to 21311\n",
      "Data columns (total 23 columns):\n",
      " #   Column                            Non-Null Count  Dtype  \n",
      "---  ------                            --------------  -----  \n",
      " 0   id                                21312 non-null  int64  \n",
      " 1   listing_url                       21312 non-null  object \n",
      " 2   description                       20941 non-null  object \n",
      " 3   picture_url                       21312 non-null  object \n",
      " 4   host_is_superhost                 21300 non-null  object \n",
      " 5   host_has_profile_pic              21300 non-null  object \n",
      " 6   host_identity_verified            21300 non-null  object \n",
      " 7   neighbourhood                     21309 non-null  object \n",
      " 8   latitude                          21312 non-null  float64\n",
      " 9   longitude                         21312 non-null  float64\n",
      " 10  room_type                         21312 non-null  object \n",
      " 11  bathrooms                         21300 non-null  float64\n",
      " 12  bedrooms                          21303 non-null  float64\n",
      " 13  beds                              21291 non-null  float64\n",
      " 14  bed_type                          21312 non-null  object \n",
      " 15  guests_included                   21312 non-null  int64  \n",
      " 16  minimum_nights                    21312 non-null  int64  \n",
      " 17  number_of_reviews                 21312 non-null  int64  \n",
      " 18  requires_license                  21312 non-null  object \n",
      " 19  instant_bookable                  21312 non-null  object \n",
      " 20  require_guest_profile_picture     21312 non-null  object \n",
      " 21  require_guest_phone_verification  21312 non-null  object \n",
      " 22  price                             21312 non-null  object \n",
      "dtypes: float64(5), int64(4), object(14)\n",
      "memory usage: 3.7+ MB\n"
     ]
    }
   ],
   "source": [
    "# overall information about 2019 Airbnb summer listings\n",
    "df_2019.info()"
   ]
  },
  {
   "cell_type": "markdown",
   "metadata": {},
   "source": [
    "We need to adjust few column errors before futher exploration:"
   ]
  },
  {
   "cell_type": "markdown",
   "metadata": {},
   "source": [
    "* remove $ sign at \"price\" and then covert it to float datatype"
   ]
  },
  {
   "cell_type": "code",
   "execution_count": 82,
   "metadata": {},
   "outputs": [
    {
     "name": "stderr",
     "output_type": "stream",
     "text": [
      "<ipython-input-82-f8c376efd9b7>:2: FutureWarning: The default value of regex will change from True to False in a future version. In addition, single character regular expressions will*not* be treated as literal strings when regex=True.\n",
      "  df_2019['price'] = df_2019['price'].str.replace('$', '')\n"
     ]
    }
   ],
   "source": [
    "# revove $\n",
    "df_2019['price'] = df_2019['price'].str.replace('$', '')\n",
    "df_2019['price'] = df_2019['price'].str.replace(',', '')"
   ]
  },
  {
   "cell_type": "code",
   "execution_count": 83,
   "metadata": {},
   "outputs": [],
   "source": [
    "# covert data types\n",
    "df_2019['price']=df_2019['price'].astype(float)"
   ]
  },
  {
   "cell_type": "code",
   "execution_count": 84,
   "metadata": {},
   "outputs": [
    {
     "data": {
      "text/html": [
       "<div>\n",
       "<style scoped>\n",
       "    .dataframe tbody tr th:only-of-type {\n",
       "        vertical-align: middle;\n",
       "    }\n",
       "\n",
       "    .dataframe tbody tr th {\n",
       "        vertical-align: top;\n",
       "    }\n",
       "\n",
       "    .dataframe thead th {\n",
       "        text-align: right;\n",
       "    }\n",
       "</style>\n",
       "<table border=\"1\" class=\"dataframe\">\n",
       "  <thead>\n",
       "    <tr style=\"text-align: right;\">\n",
       "      <th></th>\n",
       "      <th>id</th>\n",
       "      <th>latitude</th>\n",
       "      <th>longitude</th>\n",
       "      <th>bathrooms</th>\n",
       "      <th>bedrooms</th>\n",
       "      <th>beds</th>\n",
       "      <th>guests_included</th>\n",
       "      <th>minimum_nights</th>\n",
       "      <th>number_of_reviews</th>\n",
       "      <th>price</th>\n",
       "    </tr>\n",
       "  </thead>\n",
       "  <tbody>\n",
       "    <tr>\n",
       "      <th>count</th>\n",
       "      <td>2.131200e+04</td>\n",
       "      <td>21312.000000</td>\n",
       "      <td>21312.000000</td>\n",
       "      <td>21300.000000</td>\n",
       "      <td>21303.000000</td>\n",
       "      <td>21291.000000</td>\n",
       "      <td>21312.000000</td>\n",
       "      <td>21312.000000</td>\n",
       "      <td>21312.000000</td>\n",
       "      <td>21312.000000</td>\n",
       "    </tr>\n",
       "    <tr>\n",
       "      <th>mean</th>\n",
       "      <td>2.207339e+07</td>\n",
       "      <td>43.680110</td>\n",
       "      <td>-79.397624</td>\n",
       "      <td>1.256103</td>\n",
       "      <td>1.333099</td>\n",
       "      <td>1.693063</td>\n",
       "      <td>1.705283</td>\n",
       "      <td>6.192943</td>\n",
       "      <td>26.094548</td>\n",
       "      <td>144.591169</td>\n",
       "    </tr>\n",
       "    <tr>\n",
       "      <th>std</th>\n",
       "      <td>1.003851e+07</td>\n",
       "      <td>0.048248</td>\n",
       "      <td>0.061901</td>\n",
       "      <td>0.576345</td>\n",
       "      <td>0.882026</td>\n",
       "      <td>1.120943</td>\n",
       "      <td>1.386229</td>\n",
       "      <td>29.047224</td>\n",
       "      <td>47.539370</td>\n",
       "      <td>241.107697</td>\n",
       "    </tr>\n",
       "    <tr>\n",
       "      <th>min</th>\n",
       "      <td>1.419000e+03</td>\n",
       "      <td>43.586710</td>\n",
       "      <td>-79.623460</td>\n",
       "      <td>0.000000</td>\n",
       "      <td>0.000000</td>\n",
       "      <td>0.000000</td>\n",
       "      <td>1.000000</td>\n",
       "      <td>1.000000</td>\n",
       "      <td>0.000000</td>\n",
       "      <td>0.000000</td>\n",
       "    </tr>\n",
       "    <tr>\n",
       "      <th>25%</th>\n",
       "      <td>1.455048e+07</td>\n",
       "      <td>43.645000</td>\n",
       "      <td>-79.424583</td>\n",
       "      <td>1.000000</td>\n",
       "      <td>1.000000</td>\n",
       "      <td>1.000000</td>\n",
       "      <td>1.000000</td>\n",
       "      <td>1.000000</td>\n",
       "      <td>1.000000</td>\n",
       "      <td>65.000000</td>\n",
       "    </tr>\n",
       "    <tr>\n",
       "      <th>50%</th>\n",
       "      <td>2.305535e+07</td>\n",
       "      <td>43.662310</td>\n",
       "      <td>-79.397500</td>\n",
       "      <td>1.000000</td>\n",
       "      <td>1.000000</td>\n",
       "      <td>1.000000</td>\n",
       "      <td>1.000000</td>\n",
       "      <td>2.000000</td>\n",
       "      <td>8.000000</td>\n",
       "      <td>99.000000</td>\n",
       "    </tr>\n",
       "    <tr>\n",
       "      <th>75%</th>\n",
       "      <td>3.076903e+07</td>\n",
       "      <td>43.696983</td>\n",
       "      <td>-79.377778</td>\n",
       "      <td>1.000000</td>\n",
       "      <td>2.000000</td>\n",
       "      <td>2.000000</td>\n",
       "      <td>2.000000</td>\n",
       "      <td>3.000000</td>\n",
       "      <td>29.000000</td>\n",
       "      <td>165.000000</td>\n",
       "    </tr>\n",
       "    <tr>\n",
       "      <th>max</th>\n",
       "      <td>3.651415e+07</td>\n",
       "      <td>43.831710</td>\n",
       "      <td>-79.124850</td>\n",
       "      <td>11.500000</td>\n",
       "      <td>15.000000</td>\n",
       "      <td>17.000000</td>\n",
       "      <td>16.000000</td>\n",
       "      <td>1125.000000</td>\n",
       "      <td>725.000000</td>\n",
       "      <td>13078.000000</td>\n",
       "    </tr>\n",
       "  </tbody>\n",
       "</table>\n",
       "</div>"
      ],
      "text/plain": [
       "                 id      latitude     longitude     bathrooms      bedrooms  \\\n",
       "count  2.131200e+04  21312.000000  21312.000000  21300.000000  21303.000000   \n",
       "mean   2.207339e+07     43.680110    -79.397624      1.256103      1.333099   \n",
       "std    1.003851e+07      0.048248      0.061901      0.576345      0.882026   \n",
       "min    1.419000e+03     43.586710    -79.623460      0.000000      0.000000   \n",
       "25%    1.455048e+07     43.645000    -79.424583      1.000000      1.000000   \n",
       "50%    2.305535e+07     43.662310    -79.397500      1.000000      1.000000   \n",
       "75%    3.076903e+07     43.696983    -79.377778      1.000000      2.000000   \n",
       "max    3.651415e+07     43.831710    -79.124850     11.500000     15.000000   \n",
       "\n",
       "               beds  guests_included  minimum_nights  number_of_reviews  \\\n",
       "count  21291.000000     21312.000000    21312.000000       21312.000000   \n",
       "mean       1.693063         1.705283        6.192943          26.094548   \n",
       "std        1.120943         1.386229       29.047224          47.539370   \n",
       "min        0.000000         1.000000        1.000000           0.000000   \n",
       "25%        1.000000         1.000000        1.000000           1.000000   \n",
       "50%        1.000000         1.000000        2.000000           8.000000   \n",
       "75%        2.000000         2.000000        3.000000          29.000000   \n",
       "max       17.000000        16.000000     1125.000000         725.000000   \n",
       "\n",
       "              price  \n",
       "count  21312.000000  \n",
       "mean     144.591169  \n",
       "std      241.107697  \n",
       "min        0.000000  \n",
       "25%       65.000000  \n",
       "50%       99.000000  \n",
       "75%      165.000000  \n",
       "max    13078.000000  "
      ]
     },
     "execution_count": 84,
     "metadata": {},
     "output_type": "execute_result"
    }
   ],
   "source": [
    "# check statistics\n",
    "df_2019.describe()"
   ]
  },
  {
   "cell_type": "code",
   "execution_count": 85,
   "metadata": {},
   "outputs": [
    {
     "data": {
      "text/plain": [
       "id                                  False\n",
       "listing_url                         False\n",
       "description                         False\n",
       "picture_url                         False\n",
       "host_is_superhost                   False\n",
       "host_has_profile_pic                False\n",
       "host_identity_verified              False\n",
       "neighbourhood                       False\n",
       "latitude                            False\n",
       "longitude                           False\n",
       "room_type                           False\n",
       "bathrooms                           False\n",
       "bedrooms                            False\n",
       "beds                                False\n",
       "bed_type                            False\n",
       "guests_included                     False\n",
       "minimum_nights                      False\n",
       "number_of_reviews                   False\n",
       "requires_license                    False\n",
       "instant_bookable                    False\n",
       "require_guest_profile_picture       False\n",
       "require_guest_phone_verification    False\n",
       "price                               False\n",
       "dtype: bool"
      ]
     },
     "execution_count": 85,
     "metadata": {},
     "output_type": "execute_result"
    }
   ],
   "source": [
    "# any duplicated columns?\n",
    "df_2019.transpose().duplicated()"
   ]
  },
  {
   "cell_type": "code",
   "execution_count": 86,
   "metadata": {},
   "outputs": [
    {
     "data": {
      "text/plain": [
       "0"
      ]
     },
     "execution_count": 86,
     "metadata": {},
     "output_type": "execute_result"
    }
   ],
   "source": [
    "# any duplicated rows\n",
    "df_2019.duplicated().sum()"
   ]
  },
  {
   "cell_type": "code",
   "execution_count": 87,
   "metadata": {},
   "outputs": [
    {
     "data": {
      "text/html": [
       "<div>\n",
       "<style scoped>\n",
       "    .dataframe tbody tr th:only-of-type {\n",
       "        vertical-align: middle;\n",
       "    }\n",
       "\n",
       "    .dataframe tbody tr th {\n",
       "        vertical-align: top;\n",
       "    }\n",
       "\n",
       "    .dataframe thead th {\n",
       "        text-align: right;\n",
       "    }\n",
       "</style>\n",
       "<table border=\"1\" class=\"dataframe\">\n",
       "  <thead>\n",
       "    <tr style=\"text-align: right;\">\n",
       "      <th></th>\n",
       "      <th>Null_Percentage</th>\n",
       "      <th>Null_Numbers</th>\n",
       "    </tr>\n",
       "  </thead>\n",
       "  <tbody>\n",
       "    <tr>\n",
       "      <th>id</th>\n",
       "      <td>0.000000</td>\n",
       "      <td>0</td>\n",
       "    </tr>\n",
       "    <tr>\n",
       "      <th>listing_url</th>\n",
       "      <td>0.000000</td>\n",
       "      <td>0</td>\n",
       "    </tr>\n",
       "    <tr>\n",
       "      <th>description</th>\n",
       "      <td>1.740803</td>\n",
       "      <td>371</td>\n",
       "    </tr>\n",
       "    <tr>\n",
       "      <th>picture_url</th>\n",
       "      <td>0.000000</td>\n",
       "      <td>0</td>\n",
       "    </tr>\n",
       "    <tr>\n",
       "      <th>host_is_superhost</th>\n",
       "      <td>0.056306</td>\n",
       "      <td>12</td>\n",
       "    </tr>\n",
       "    <tr>\n",
       "      <th>host_has_profile_pic</th>\n",
       "      <td>0.056306</td>\n",
       "      <td>12</td>\n",
       "    </tr>\n",
       "    <tr>\n",
       "      <th>host_identity_verified</th>\n",
       "      <td>0.056306</td>\n",
       "      <td>12</td>\n",
       "    </tr>\n",
       "    <tr>\n",
       "      <th>neighbourhood</th>\n",
       "      <td>0.014077</td>\n",
       "      <td>3</td>\n",
       "    </tr>\n",
       "    <tr>\n",
       "      <th>latitude</th>\n",
       "      <td>0.000000</td>\n",
       "      <td>0</td>\n",
       "    </tr>\n",
       "    <tr>\n",
       "      <th>longitude</th>\n",
       "      <td>0.000000</td>\n",
       "      <td>0</td>\n",
       "    </tr>\n",
       "    <tr>\n",
       "      <th>room_type</th>\n",
       "      <td>0.000000</td>\n",
       "      <td>0</td>\n",
       "    </tr>\n",
       "    <tr>\n",
       "      <th>bathrooms</th>\n",
       "      <td>0.056306</td>\n",
       "      <td>12</td>\n",
       "    </tr>\n",
       "    <tr>\n",
       "      <th>bedrooms</th>\n",
       "      <td>0.042230</td>\n",
       "      <td>9</td>\n",
       "    </tr>\n",
       "    <tr>\n",
       "      <th>beds</th>\n",
       "      <td>0.098536</td>\n",
       "      <td>21</td>\n",
       "    </tr>\n",
       "    <tr>\n",
       "      <th>bed_type</th>\n",
       "      <td>0.000000</td>\n",
       "      <td>0</td>\n",
       "    </tr>\n",
       "    <tr>\n",
       "      <th>guests_included</th>\n",
       "      <td>0.000000</td>\n",
       "      <td>0</td>\n",
       "    </tr>\n",
       "    <tr>\n",
       "      <th>minimum_nights</th>\n",
       "      <td>0.000000</td>\n",
       "      <td>0</td>\n",
       "    </tr>\n",
       "    <tr>\n",
       "      <th>number_of_reviews</th>\n",
       "      <td>0.000000</td>\n",
       "      <td>0</td>\n",
       "    </tr>\n",
       "    <tr>\n",
       "      <th>requires_license</th>\n",
       "      <td>0.000000</td>\n",
       "      <td>0</td>\n",
       "    </tr>\n",
       "    <tr>\n",
       "      <th>instant_bookable</th>\n",
       "      <td>0.000000</td>\n",
       "      <td>0</td>\n",
       "    </tr>\n",
       "    <tr>\n",
       "      <th>require_guest_profile_picture</th>\n",
       "      <td>0.000000</td>\n",
       "      <td>0</td>\n",
       "    </tr>\n",
       "    <tr>\n",
       "      <th>require_guest_phone_verification</th>\n",
       "      <td>0.000000</td>\n",
       "      <td>0</td>\n",
       "    </tr>\n",
       "    <tr>\n",
       "      <th>price</th>\n",
       "      <td>0.000000</td>\n",
       "      <td>0</td>\n",
       "    </tr>\n",
       "  </tbody>\n",
       "</table>\n",
       "</div>"
      ],
      "text/plain": [
       "                                  Null_Percentage  Null_Numbers\n",
       "id                                       0.000000             0\n",
       "listing_url                              0.000000             0\n",
       "description                              1.740803           371\n",
       "picture_url                              0.000000             0\n",
       "host_is_superhost                        0.056306            12\n",
       "host_has_profile_pic                     0.056306            12\n",
       "host_identity_verified                   0.056306            12\n",
       "neighbourhood                            0.014077             3\n",
       "latitude                                 0.000000             0\n",
       "longitude                                0.000000             0\n",
       "room_type                                0.000000             0\n",
       "bathrooms                                0.056306            12\n",
       "bedrooms                                 0.042230             9\n",
       "beds                                     0.098536            21\n",
       "bed_type                                 0.000000             0\n",
       "guests_included                          0.000000             0\n",
       "minimum_nights                           0.000000             0\n",
       "number_of_reviews                        0.000000             0\n",
       "requires_license                         0.000000             0\n",
       "instant_bookable                         0.000000             0\n",
       "require_guest_profile_picture            0.000000             0\n",
       "require_guest_phone_verification         0.000000             0\n",
       "price                                    0.000000             0"
      ]
     },
     "execution_count": 87,
     "metadata": {},
     "output_type": "execute_result"
    }
   ],
   "source": [
    "# checking null values by columns\n",
    "pd.DataFrame({\"Null_Percentage\":(df_2019.isna().mean()*100),\"Null_Numbers\":(df_2019.isna().sum(axis=0))})"
   ]
  },
  {
   "cell_type": "markdown",
   "metadata": {},
   "source": [
    "Before we start dealing with the null values, let's drop the \"listing_url\" and \"picture_url\" columns, since they are not what we focus on this perticular analysis for predicting the Toronto Airbnb price."
   ]
  },
  {
   "cell_type": "code",
   "execution_count": 88,
   "metadata": {},
   "outputs": [],
   "source": [
    "# drop two columns\n",
    "df_2019.drop([\"listing_url\",\"picture_url\"],axis=1,inplace=True)"
   ]
  },
  {
   "cell_type": "markdown",
   "metadata": {},
   "source": [
    "##### looping tho. numerical columns\n",
    "\n",
    "for \"latitude\" and \"longitude\" columns, we don't consider them as the troditional numercial columns. we'll analysis them separtately.\n",
    "\n",
    "also breifely check all numercial columns data distrubutions"
   ]
  },
  {
   "cell_type": "code",
   "execution_count": 89,
   "metadata": {
    "scrolled": false
   },
   "outputs": [
    {
     "name": "stdout",
     "output_type": "stream",
     "text": [
      "------------------------------------------\n",
      "Column:  bathrooms\n",
      "null values:  12\n",
      "unique values:\n",
      "1.0     16192\n",
      "2.0      2817\n",
      "1.5      1269\n",
      "2.5       388\n",
      "3.0       278\n",
      "3.5       145\n",
      "4.0        50\n",
      "0.5        38\n",
      "0.0        33\n",
      "4.5        27\n",
      "5.0        23\n",
      "5.5        14\n",
      "6.0        11\n",
      "8.0         5\n",
      "6.5         4\n",
      "7.0         2\n",
      "7.5         2\n",
      "9.0         1\n",
      "11.5        1\n",
      "Name: bathrooms, dtype: int64\n"
     ]
    },
    {
     "data": {
      "image/png": "[encoded data removed]",
      "text/plain": [
       "<Figure size 1080x720 with 1 Axes>"
      ]
     },
     "metadata": {
      "needs_background": "light"
     },
     "output_type": "display_data"
    },
    {
     "name": "stdout",
     "output_type": "stream",
     "text": [
      "\n",
      "\n",
      "------------------------------------------\n",
      "Column:  bedrooms\n",
      "null values:  9\n",
      "unique values:\n",
      "1.0     14010\n",
      "2.0      3880\n",
      "0.0      1503\n",
      "3.0      1341\n",
      "4.0       387\n",
      "5.0       112\n",
      "6.0        46\n",
      "8.0         6\n",
      "7.0         6\n",
      "9.0         5\n",
      "13.0        4\n",
      "10.0        2\n",
      "15.0        1\n",
      "Name: bedrooms, dtype: int64\n"
     ]
    },
    {
     "data": {
      "image/png": "[encoded data removed]",
      "text/plain": [
       "<Figure size 1080x720 with 1 Axes>"
      ]
     },
     "metadata": {
      "needs_background": "light"
     },
     "output_type": "display_data"
    },
    {
     "name": "stdout",
     "output_type": "stream",
     "text": [
      "\n",
      "\n",
      "------------------------------------------\n",
      "Column:  number_of_reviews\n",
      "null values:  0\n",
      "unique values:\n",
      "0      3899\n",
      "1      1911\n",
      "2      1255\n",
      "3       993\n",
      "4       806\n",
      "       ... \n",
      "423       1\n",
      "455       1\n",
      "216       1\n",
      "328       1\n",
      "383       1\n",
      "Name: number_of_reviews, Length: 363, dtype: int64\n"
     ]
    },
    {
     "data": {
      "image/png": "[encoded data removed]",
      "text/plain": [
       "<Figure size 1080x720 with 1 Axes>"
      ]
     },
     "metadata": {
      "needs_background": "light"
     },
     "output_type": "display_data"
    },
    {
     "name": "stdout",
     "output_type": "stream",
     "text": [
      "\n",
      "\n",
      "------------------------------------------\n",
      "Column:  beds\n",
      "null values:  21\n",
      "unique values:\n",
      "1.0     12308\n",
      "2.0      5398\n",
      "3.0      2145\n",
      "4.0       778\n",
      "5.0       309\n",
      "6.0       123\n",
      "0.0        98\n",
      "7.0        58\n",
      "8.0        33\n",
      "9.0        16\n",
      "10.0       10\n",
      "11.0        5\n",
      "12.0        4\n",
      "17.0        3\n",
      "15.0        1\n",
      "14.0        1\n",
      "16.0        1\n",
      "Name: beds, dtype: int64\n"
     ]
    },
    {
     "data": {
      "image/png": "[encoded data removed]",
      "text/plain": [
       "<Figure size 1080x720 with 1 Axes>"
      ]
     },
     "metadata": {
      "needs_background": "light"
     },
     "output_type": "display_data"
    },
    {
     "name": "stdout",
     "output_type": "stream",
     "text": [
      "\n",
      "\n",
      "------------------------------------------\n",
      "Column:  guests_included\n",
      "null values:  0\n",
      "unique values:\n",
      "1     13777\n",
      "2      4583\n",
      "4      1380\n",
      "3       702\n",
      "6       391\n",
      "5       242\n",
      "8        98\n",
      "10       44\n",
      "7        40\n",
      "16       18\n",
      "12       14\n",
      "9        12\n",
      "14        5\n",
      "15        3\n",
      "11        2\n",
      "13        1\n",
      "Name: guests_included, dtype: int64\n"
     ]
    },
    {
     "data": {
      "image/png": "[encoded data removed]",
      "text/plain": [
       "<Figure size 1080x720 with 1 Axes>"
      ]
     },
     "metadata": {
      "needs_background": "light"
     },
     "output_type": "display_data"
    },
    {
     "name": "stdout",
     "output_type": "stream",
     "text": [
      "\n",
      "\n",
      "------------------------------------------\n",
      "Column:  minimum_nights\n",
      "null values:  0\n",
      "unique values:\n",
      "1      8380\n",
      "2      5999\n",
      "3      2631\n",
      "5       869\n",
      "7       797\n",
      "       ... \n",
      "121       1\n",
      "137       1\n",
      "154       1\n",
      "362       1\n",
      "335       1\n",
      "Name: minimum_nights, Length: 96, dtype: int64\n"
     ]
    },
    {
     "data": {
      "image/png": "[encoded data removed]",
      "text/plain": [
       "<Figure size 1080x720 with 1 Axes>"
      ]
     },
     "metadata": {
      "needs_background": "light"
     },
     "output_type": "display_data"
    },
    {
     "name": "stdout",
     "output_type": "stream",
     "text": [
      "\n",
      "\n",
      "------------------------------------------\n",
      "Column:  price\n",
      "null values:  0\n",
      "unique values:\n",
      "99.0     1192\n",
      "150.0     799\n",
      "50.0      600\n",
      "75.0      587\n",
      "120.0     579\n",
      "         ... \n",
      "373.0       1\n",
      "232.0       1\n",
      "661.0       1\n",
      "514.0       1\n",
      "429.0       1\n",
      "Name: price, Length: 470, dtype: int64\n"
     ]
    },
    {
     "data": {
      "image/png": "[encoded data removed]",
      "text/plain": [
       "<Figure size 1080x720 with 1 Axes>"
      ]
     },
     "metadata": {
      "needs_background": "light"
     },
     "output_type": "display_data"
    },
    {
     "name": "stdout",
     "output_type": "stream",
     "text": [
      "\n",
      "\n"
     ]
    }
   ],
   "source": [
    "# looping tho. numerical columns\n",
    "\n",
    "num_columns = [\"bathrooms\",\"bedrooms\",\"number_of_reviews\",\"beds\",\"guests_included\",\"minimum_nights\",\"price\"]\n",
    "\n",
    "for num in num_columns:\n",
    "    print(\"------------------------------------------\")\n",
    "    print(\"Column: \",num)\n",
    "    print(\"null values: \", df_2019[num].isna().sum(axis=0))\n",
    "    print(\"unique values:\")\n",
    "    print(df_2019[num].value_counts())\n",
    "    \n",
    "    # plot a histogram\n",
    "    plt.figure(figsize=(15, 10))\n",
    "    plt.hist(df_2019[num])\n",
    "    plt.xlabel(num)\n",
    "    plt.ylabel(\"Frequency\")\n",
    "    plt.show()\n",
    "    \n",
    "    print(\"\\n\")"
   ]
  },
  {
   "cell_type": "markdown",
   "metadata": {},
   "source": [
    "##### We can see a few actions to take here:\n",
    "* fill null values in the \"bathrooms\" with 1.0 and change it to a `binary` column\n",
    "* fill null values in the \"bedrooms\" with 1.0 and change it to `int` data type\n",
    "* fill null values in the \"beds\" with 1.0 and change it to `int` data type\n",
    "* change \"guests_included\" to a `binary` column"
   ]
  },
  {
   "cell_type": "markdown",
   "metadata": {},
   "source": [
    "* for \"bathrooms\" column:\n",
    "\n",
    "fill the 12 null values with the 1.0 value.\n",
    "\n",
    "also since more than 75% of the data in \"bathrooms\" are 1.0, let's transform the \"bathrooms\" column to a binary column as \"more_than_one_bathroom\"."
   ]
  },
  {
   "cell_type": "code",
   "execution_count": 90,
   "metadata": {},
   "outputs": [],
   "source": [
    "# fill null values\n",
    "df_2019[\"bathrooms\"].fillna(1.0,inplace=True)"
   ]
  },
  {
   "cell_type": "code",
   "execution_count": 91,
   "metadata": {},
   "outputs": [],
   "source": [
    "# transfrom the bathrooms column into a binary\n",
    "df_2019[\"more_than_one_bathroom\"] = (df_2019[\"bathrooms\"]>1.0).astype(int)"
   ]
  },
  {
   "cell_type": "code",
   "execution_count": 92,
   "metadata": {},
   "outputs": [],
   "source": [
    "# drop the \"bathrooms\" column\n",
    "df_2019.drop([\"bathrooms\"],axis=1,inplace=True)"
   ]
  },
  {
   "cell_type": "code",
   "execution_count": 93,
   "metadata": {},
   "outputs": [
    {
     "data": {
      "text/plain": [
       "0    16275\n",
       "1     5037\n",
       "Name: more_than_one_bathroom, dtype: int64"
      ]
     },
     "execution_count": 93,
     "metadata": {},
     "output_type": "execute_result"
    }
   ],
   "source": [
    "# check the data distrubution in \"more_than_one_bathroom\"\n",
    "df_2019[\"more_than_one_bathroom\"].value_counts()"
   ]
  },
  {
   "cell_type": "markdown",
   "metadata": {},
   "source": [
    "* for \"bedrooms\" column:\n",
    "\n",
    "similar situation as \"bathrooms\" column where only a few null values and we'll fill them with the 1.0 which is the majarty of the values within the \"bedrooms\" column.\n",
    "\n",
    "also since more than 65% of the data in \"bedrooms\" are 1.0, let's transform the \"bedrooms\" column to a binary column as \"more_than_one_bedroom\"."
   ]
  },
  {
   "cell_type": "code",
   "execution_count": 94,
   "metadata": {},
   "outputs": [],
   "source": [
    "# fill null values for \"bedrooms\" column\n",
    "df_2019[\"bedrooms\"].fillna(1.0,inplace=True)"
   ]
  },
  {
   "cell_type": "code",
   "execution_count": 95,
   "metadata": {},
   "outputs": [],
   "source": [
    "# transfrom the \"bedrooms\" column into a binary\n",
    "df_2019[\"more_than_one_bedroom\"] = (df_2019[\"bedrooms\"]>1.0).astype(int)"
   ]
  },
  {
   "cell_type": "code",
   "execution_count": 96,
   "metadata": {},
   "outputs": [],
   "source": [
    "# drop the \"bedrooms\" column\n",
    "df_2019.drop([\"bedrooms\"],axis=1,inplace=True)"
   ]
  },
  {
   "cell_type": "code",
   "execution_count": 97,
   "metadata": {
    "scrolled": true
   },
   "outputs": [
    {
     "data": {
      "text/plain": [
       "0    15522\n",
       "1     5790\n",
       "Name: more_than_one_bedroom, dtype: int64"
      ]
     },
     "execution_count": 97,
     "metadata": {},
     "output_type": "execute_result"
    }
   ],
   "source": [
    "# check the data distrubution\n",
    "df_2019[\"more_than_one_bedroom\"].value_counts()"
   ]
  },
  {
   "cell_type": "markdown",
   "metadata": {},
   "source": [
    "* for \"beds\" column:\n",
    "\n",
    "fill the few null values with the majaraty of 1.0 value within the column."
   ]
  },
  {
   "cell_type": "code",
   "execution_count": 98,
   "metadata": {},
   "outputs": [],
   "source": [
    "# fill null values for \"beds\" column\n",
    "df_2019[\"beds\"].fillna(1.0,inplace=True)"
   ]
  },
  {
   "cell_type": "code",
   "execution_count": 99,
   "metadata": {},
   "outputs": [],
   "source": [
    "# conver the \"beds\" data type\n",
    "df_2019[\"beds\"]=(df_2019[\"beds\"]).astype(int)"
   ]
  },
  {
   "cell_type": "markdown",
   "metadata": {},
   "source": [
    "* for \"guests_included\" column:\n",
    "\n",
    "more than 60% of the data in the column are 1.0 which means no guests allowed.\n",
    "let's transform the \"guests_included\" column to a binary column as \"allow_guests\"."
   ]
  },
  {
   "cell_type": "code",
   "execution_count": 100,
   "metadata": {},
   "outputs": [],
   "source": [
    "# conver \"guests_included\" to a binary column\n",
    "df_2019[\"allow_guests\"] = (df_2019[\"guests_included\"]>1.0).astype(int)"
   ]
  },
  {
   "cell_type": "code",
   "execution_count": 101,
   "metadata": {
    "scrolled": true
   },
   "outputs": [
    {
     "data": {
      "text/plain": [
       "0    13777\n",
       "1     7535\n",
       "Name: allow_guests, dtype: int64"
      ]
     },
     "execution_count": 101,
     "metadata": {},
     "output_type": "execute_result"
    }
   ],
   "source": [
    "# check the data distrubution\n",
    "df_2019[\"allow_guests\"].value_counts()"
   ]
  },
  {
   "cell_type": "code",
   "execution_count": 102,
   "metadata": {},
   "outputs": [],
   "source": [
    "# drop \"guests_included\"\n",
    "df_2019.drop([\"guests_included\"],axis=1,inplace=True)"
   ]
  },
  {
   "cell_type": "markdown",
   "metadata": {},
   "source": [
    "##### next, looping tho. categorical columns"
   ]
  },
  {
   "cell_type": "code",
   "execution_count": 104,
   "metadata": {
    "scrolled": false
   },
   "outputs": [
    {
     "name": "stdout",
     "output_type": "stream",
     "text": [
      "------------------------------------------\n",
      "Column:  host_is_superhost\n",
      "null values:  12\n",
      "f    15606\n",
      "t     5694\n",
      "Name: host_is_superhost, dtype: int64\n"
     ]
    },
    {
     "data": {
      "image/png": "[encoded data removed]",
      "text/plain": [
       "<Figure size 432x288 with 1 Axes>"
      ]
     },
     "metadata": {
      "needs_background": "light"
     },
     "output_type": "display_data"
    },
    {
     "name": "stdout",
     "output_type": "stream",
     "text": [
      "\n",
      "\n",
      "------------------------------------------\n",
      "Column:  host_has_profile_pic\n",
      "null values:  12\n",
      "t    21253\n",
      "f       47\n",
      "Name: host_has_profile_pic, dtype: int64\n"
     ]
    },
    {
     "data": {
      "image/png": "[encoded data removed]",
      "text/plain": [
       "<Figure size 432x288 with 1 Axes>"
      ]
     },
     "metadata": {
      "needs_background": "light"
     },
     "output_type": "display_data"
    },
    {
     "name": "stdout",
     "output_type": "stream",
     "text": [
      "\n",
      "\n",
      "------------------------------------------\n",
      "Column:  host_identity_verified\n",
      "null values:  12\n",
      "f    13650\n",
      "t     7650\n",
      "Name: host_identity_verified, dtype: int64\n"
     ]
    },
    {
     "data": {
      "image/png": "[encoded data removed]",
      "text/plain": [
       "<Figure size 432x288 with 1 Axes>"
      ]
     },
     "metadata": {
      "needs_background": "light"
     },
     "output_type": "display_data"
    },
    {
     "name": "stdout",
     "output_type": "stream",
     "text": [
      "\n",
      "\n",
      "------------------------------------------\n",
      "Column:  neighbourhood\n",
      "null values:  3\n",
      "Downtown Toronto          4871\n",
      "Entertainment District    1206\n",
      "Niagara                    943\n",
      "Willowdale                 726\n",
      "The Annex                  671\n",
      "                          ... \n",
      "Manse Valley                10\n",
      "Rouge                        8\n",
      "Markland Woods               7\n",
      "Toronto Islands              7\n",
      "Beachborough                 2\n",
      "Name: neighbourhood, Length: 140, dtype: int64\n"
     ]
    },
    {
     "data": {
      "image/png": "[encoded data removed]",
      "text/plain": [
       "<Figure size 432x288 with 1 Axes>"
      ]
     },
     "metadata": {
      "needs_background": "light"
     },
     "output_type": "display_data"
    },
    {
     "name": "stdout",
     "output_type": "stream",
     "text": [
      "\n",
      "\n",
      "------------------------------------------\n",
      "Column:  room_type\n",
      "null values:  0\n",
      "Entire home/apt    13800\n",
      "Private room        7171\n",
      "Shared room          341\n",
      "Name: room_type, dtype: int64\n"
     ]
    },
    {
     "data": {
      "image/png": "[encoded data removed]",
      "text/plain": [
       "<Figure size 432x288 with 1 Axes>"
      ]
     },
     "metadata": {
      "needs_background": "light"
     },
     "output_type": "display_data"
    },
    {
     "name": "stdout",
     "output_type": "stream",
     "text": [
      "\n",
      "\n",
      "------------------------------------------\n",
      "Column:  bed_type\n",
      "null values:  0\n",
      "Real Bed         21026\n",
      "Futon              133\n",
      "Pull-out Sofa       86\n",
      "Airbed              36\n",
      "Couch               31\n",
      "Name: bed_type, dtype: int64\n"
     ]
    },
    {
     "data": {
      "image/png": "[encoded data removed]",
      "text/plain": [
       "<Figure size 432x288 with 1 Axes>"
      ]
     },
     "metadata": {
      "needs_background": "light"
     },
     "output_type": "display_data"
    },
    {
     "name": "stdout",
     "output_type": "stream",
     "text": [
      "\n",
      "\n",
      "------------------------------------------\n",
      "Column:  requires_license\n",
      "null values:  0\n",
      "f    21312\n",
      "Name: requires_license, dtype: int64\n"
     ]
    },
    {
     "data": {
      "image/png": "[encoded data removed]",
      "text/plain": [
       "<Figure size 432x288 with 1 Axes>"
      ]
     },
     "metadata": {
      "needs_background": "light"
     },
     "output_type": "display_data"
    },
    {
     "name": "stdout",
     "output_type": "stream",
     "text": [
      "\n",
      "\n",
      "------------------------------------------\n",
      "Column:  instant_bookable\n",
      "null values:  0\n",
      "f    12872\n",
      "t     8440\n",
      "Name: instant_bookable, dtype: int64\n"
     ]
    },
    {
     "data": {
      "image/png": "[encoded data removed]",
      "text/plain": [
       "<Figure size 432x288 with 1 Axes>"
      ]
     },
     "metadata": {
      "needs_background": "light"
     },
     "output_type": "display_data"
    },
    {
     "name": "stdout",
     "output_type": "stream",
     "text": [
      "\n",
      "\n",
      "------------------------------------------\n",
      "Column:  require_guest_profile_picture\n",
      "null values:  0\n",
      "f    21138\n",
      "t      174\n",
      "Name: require_guest_profile_picture, dtype: int64\n"
     ]
    },
    {
     "data": {
      "image/png": "[encoded data removed]",
      "text/plain": [
       "<Figure size 432x288 with 1 Axes>"
      ]
     },
     "metadata": {
      "needs_background": "light"
     },
     "output_type": "display_data"
    },
    {
     "name": "stdout",
     "output_type": "stream",
     "text": [
      "\n",
      "\n",
      "------------------------------------------\n",
      "Column:  require_guest_phone_verification\n",
      "null values:  0\n",
      "f    21071\n",
      "t      241\n",
      "Name: require_guest_phone_verification, dtype: int64\n"
     ]
    },
    {
     "data": {
      "image/png": "[encoded data removed]",
      "text/plain": [
       "<Figure size 432x288 with 1 Axes>"
      ]
     },
     "metadata": {
      "needs_background": "light"
     },
     "output_type": "display_data"
    },
    {
     "name": "stdout",
     "output_type": "stream",
     "text": [
      "\n",
      "\n"
     ]
    }
   ],
   "source": [
    "# looping tho. categorical columns\n",
    "\n",
    "cat_columns = [\"host_is_superhost\", \"host_has_profile_pic\",\"host_identity_verified\",\"neighbourhood\",\n",
    "                \"room_type\",\"bed_type\",\"requires_license\",\"instant_bookable\",\n",
    "              \"require_guest_profile_picture\",\"require_guest_phone_verification\"]\n",
    "\n",
    "for cat in cat_columns:\n",
    "    print(\"------------------------------------------\")\n",
    "    print(\"Column: \",cat)\n",
    "    print(\"null values: \", df_2019[cat].isna().sum(axis=0))\n",
    "    print(df_2019[cat].value_counts())\n",
    "    \n",
    "    # plot a histogram\n",
    "    df_2019[cat].value_counts().plot(kind='barh')\n",
    "    plt.show()\n",
    "    \n",
    "    print(\"\\n\")"
   ]
  },
  {
   "cell_type": "markdown",
   "metadata": {},
   "source": [
    "We can see a few obvious actions to be taken here:\n",
    "* \"host_is_superhost\" fill null values and convert it to a binary column\n",
    "* \"host_has_profile_pic\" drop the column\n",
    "* \"host_identity_verified\" fill null values and convert it to a binary column\n",
    "* \"neighbourhood\" drop null values\n",
    "* \"bed_type\" convert it to a binary column\n",
    "* \"requires_license\" drop the column\n",
    "* \"instant_bookable\" convert it to a binary column\n",
    "* \"require_guest_profile_picture\" drop the column\n",
    "* \"require_guest_phone_verification\" drop the column"
   ]
  },
  {
   "cell_type": "code",
   "execution_count": 105,
   "metadata": {},
   "outputs": [
    {
     "data": {
      "text/plain": [
       "0    15618\n",
       "1     5694\n",
       "Name: host_is_superhost, dtype: int64"
      ]
     },
     "execution_count": 105,
     "metadata": {},
     "output_type": "execute_result"
    }
   ],
   "source": [
    "# fill the null values in \"host_is_superhost\"\n",
    "df_2019[\"host_is_superhost\"].fillna(\"f\",inplace=True)\n",
    "# convert it to a binary column\n",
    "df_2019[\"host_is_superhost\"].replace({\"f\":0,\"t\":1},inplace=True)\n",
    "# check unique values\n",
    "df_2019[\"host_is_superhost\"].value_counts()"
   ]
  },
  {
   "cell_type": "code",
   "execution_count": 106,
   "metadata": {},
   "outputs": [],
   "source": [
    "# drop \"host_has_profile_pic\" column\n",
    "# since 99% of the values are same\n",
    "df_2019.drop([\"host_has_profile_pic\"],axis=1,inplace=True)"
   ]
  },
  {
   "cell_type": "code",
   "execution_count": 107,
   "metadata": {},
   "outputs": [
    {
     "data": {
      "text/plain": [
       "0    13662\n",
       "1     7650\n",
       "Name: host_identity_verified, dtype: int64"
      ]
     },
     "execution_count": 107,
     "metadata": {},
     "output_type": "execute_result"
    }
   ],
   "source": [
    "# fill the null values in \"host_identity_verified\"\n",
    "df_2019[\"host_identity_verified\"].fillna(\"f\",inplace=True)\n",
    "# convert it to a binary column\n",
    "df_2019[\"host_identity_verified\"].replace({\"f\":0,\"t\":1},inplace=True)\n",
    "# check unique values\n",
    "df_2019[\"host_identity_verified\"].value_counts()"
   ]
  },
  {
   "cell_type": "code",
   "execution_count": 108,
   "metadata": {},
   "outputs": [],
   "source": [
    "# drop only 3 null values in \"neighbourhood\" column\n",
    "df_2019.dropna(subset=[\"neighbourhood\"],inplace=True)"
   ]
  },
  {
   "cell_type": "code",
   "execution_count": 109,
   "metadata": {},
   "outputs": [
    {
     "data": {
      "text/plain": [
       "1    21023\n",
       "0      286\n",
       "Name: Is_Real_Bed, dtype: int64"
      ]
     },
     "execution_count": 109,
     "metadata": {},
     "output_type": "execute_result"
    }
   ],
   "source": [
    "# convert \"bed_type\" into binary\n",
    "df_2019[\"bed_type\"].replace({\"Real Bed\":1,\"Futon\":0,\"Pull-out Sofa\":0,\"Airbed\":0,\"Couch\":0},inplace=True)\n",
    "# rename\n",
    "df_2019.rename(columns={\"bed_type\":\"Is_Real_Bed\"},inplace=True)\n",
    "# check unique values\n",
    "df_2019[\"Is_Real_Bed\"].value_counts()"
   ]
  },
  {
   "cell_type": "code",
   "execution_count": 110,
   "metadata": {},
   "outputs": [],
   "source": [
    "# drop \"requires_license\" column\n",
    "# only has one value, useless for analysis\n",
    "df_2019.drop([\"requires_license\"],axis=1,inplace=True)"
   ]
  },
  {
   "cell_type": "code",
   "execution_count": 111,
   "metadata": {},
   "outputs": [
    {
     "data": {
      "text/plain": [
       "0    12869\n",
       "1     8440\n",
       "Name: instant_bookable, dtype: int64"
      ]
     },
     "execution_count": 111,
     "metadata": {},
     "output_type": "execute_result"
    }
   ],
   "source": [
    "# convert \"instant_bookable\" into a binary column\n",
    "df_2019[\"instant_bookable\"].replace({\"f\":0,\"t\":1},inplace=True)\n",
    "# checking unique values\n",
    "df_2019[\"instant_bookable\"].value_counts()"
   ]
  },
  {
   "cell_type": "code",
   "execution_count": 112,
   "metadata": {},
   "outputs": [],
   "source": [
    "# in \"require_guest_profile_picture\" only 174 rows with \"t\"\n",
    "# around than 1% of the dataset, let's drop the column\n",
    "df_2019.drop([\"require_guest_profile_picture\"],axis=1,inplace=True)"
   ]
  },
  {
   "cell_type": "code",
   "execution_count": 113,
   "metadata": {},
   "outputs": [],
   "source": [
    "# in \"require_guest_phone_verification\" only 241 rows with \"t\"\n",
    "# less than 1.2% of the dataset, let's drop the column\n",
    "df_2019.drop([\"require_guest_phone_verification\"],axis=1,inplace=True)"
   ]
  },
  {
   "cell_type": "code",
   "execution_count": 114,
   "metadata": {},
   "outputs": [],
   "source": [
    "# drop 371 null values in \"description\" column\n",
    "# about 1.7% of the whole data and no currect way to fill the null ways\n",
    "df_2019.dropna(subset=[\"description\"],inplace=True)"
   ]
  },
  {
   "cell_type": "code",
   "execution_count": 115,
   "metadata": {
    "scrolled": false
   },
   "outputs": [
    {
     "data": {
      "text/plain": [
       "(20938, 17)"
      ]
     },
     "metadata": {},
     "output_type": "display_data"
    },
    {
     "data": {
      "text/plain": [
       "id                        0\n",
       "description               0\n",
       "host_is_superhost         0\n",
       "host_identity_verified    0\n",
       "neighbourhood             0\n",
       "latitude                  0\n",
       "longitude                 0\n",
       "room_type                 0\n",
       "beds                      0\n",
       "Is_Real_Bed               0\n",
       "minimum_nights            0\n",
       "number_of_reviews         0\n",
       "instant_bookable          0\n",
       "price                     0\n",
       "more_than_one_bathroom    0\n",
       "more_than_one_bedroom     0\n",
       "allow_guests              0\n",
       "dtype: int64"
      ]
     },
     "metadata": {},
     "output_type": "display_data"
    }
   ],
   "source": [
    "# check shape and null values tho. the whole dataset\n",
    "display(df_2019.shape)\n",
    "display(df_2019.isna().sum())"
   ]
  },
  {
   "cell_type": "markdown",
   "metadata": {},
   "source": [
    "after fill the null values and adjust columns, at this stage df_2019 columns reduced from 23 to 17.\n",
    "cleaned data are ready to explore more."
   ]
  },
  {
   "cell_type": "markdown",
   "metadata": {},
   "source": [
    "### Part 2: exploring the data\n",
    "\n",
    "It's always a good idea to do some EDA to familiarize the dataset\n",
    "\n",
    "since the `price` is our target, we gonna start to look at the distributions of the variables comparing them with the average price."
   ]
  },
  {
   "cell_type": "code",
   "execution_count": 116,
   "metadata": {},
   "outputs": [
    {
     "data": {
      "text/html": [
       "<div>\n",
       "<style scoped>\n",
       "    .dataframe tbody tr th:only-of-type {\n",
       "        vertical-align: middle;\n",
       "    }\n",
       "\n",
       "    .dataframe tbody tr th {\n",
       "        vertical-align: top;\n",
       "    }\n",
       "\n",
       "    .dataframe thead th {\n",
       "        text-align: right;\n",
       "    }\n",
       "</style>\n",
       "<table border=\"1\" class=\"dataframe\">\n",
       "  <thead>\n",
       "    <tr style=\"text-align: right;\">\n",
       "      <th></th>\n",
       "      <th>id</th>\n",
       "      <th>description</th>\n",
       "      <th>host_is_superhost</th>\n",
       "      <th>host_identity_verified</th>\n",
       "      <th>neighbourhood</th>\n",
       "      <th>latitude</th>\n",
       "      <th>longitude</th>\n",
       "      <th>room_type</th>\n",
       "      <th>beds</th>\n",
       "      <th>Is_Real_Bed</th>\n",
       "      <th>minimum_nights</th>\n",
       "      <th>number_of_reviews</th>\n",
       "      <th>instant_bookable</th>\n",
       "      <th>price</th>\n",
       "      <th>more_than_one_bathroom</th>\n",
       "      <th>more_than_one_bedroom</th>\n",
       "      <th>allow_guests</th>\n",
       "    </tr>\n",
       "  </thead>\n",
       "  <tbody>\n",
       "    <tr>\n",
       "      <th>0</th>\n",
       "      <td>16039481</td>\n",
       "      <td>This gorgeous penthouse will have you living l...</td>\n",
       "      <td>0</td>\n",
       "      <td>0</td>\n",
       "      <td>The Annex</td>\n",
       "      <td>43.67052</td>\n",
       "      <td>-79.39405</td>\n",
       "      <td>Entire home/apt</td>\n",
       "      <td>4</td>\n",
       "      <td>1</td>\n",
       "      <td>1</td>\n",
       "      <td>0</td>\n",
       "      <td>0</td>\n",
       "      <td>13078.0</td>\n",
       "      <td>1</td>\n",
       "      <td>1</td>\n",
       "      <td>0</td>\n",
       "    </tr>\n",
       "    <tr>\n",
       "      <th>1</th>\n",
       "      <td>20653172</td>\n",
       "      <td>Modern unit in a brand new, desirable building...</td>\n",
       "      <td>0</td>\n",
       "      <td>0</td>\n",
       "      <td>Downtown Toronto</td>\n",
       "      <td>43.64906</td>\n",
       "      <td>-79.39130</td>\n",
       "      <td>Entire home/apt</td>\n",
       "      <td>1</td>\n",
       "      <td>1</td>\n",
       "      <td>2</td>\n",
       "      <td>4</td>\n",
       "      <td>0</td>\n",
       "      <td>13000.0</td>\n",
       "      <td>0</td>\n",
       "      <td>0</td>\n",
       "      <td>0</td>\n",
       "    </tr>\n",
       "    <tr>\n",
       "      <th>2</th>\n",
       "      <td>34470470</td>\n",
       "      <td>Professionally decorated home in an upscale bu...</td>\n",
       "      <td>0</td>\n",
       "      <td>0</td>\n",
       "      <td>Harbourfront</td>\n",
       "      <td>43.64143</td>\n",
       "      <td>-79.37968</td>\n",
       "      <td>Entire home/apt</td>\n",
       "      <td>2</td>\n",
       "      <td>1</td>\n",
       "      <td>2</td>\n",
       "      <td>10</td>\n",
       "      <td>0</td>\n",
       "      <td>9999.0</td>\n",
       "      <td>0</td>\n",
       "      <td>1</td>\n",
       "      <td>1</td>\n",
       "    </tr>\n",
       "    <tr>\n",
       "      <th>4</th>\n",
       "      <td>36042527</td>\n",
       "      <td>Near the CN tower , eaton centre and other var...</td>\n",
       "      <td>0</td>\n",
       "      <td>0</td>\n",
       "      <td>South Hill/Rathnelly</td>\n",
       "      <td>43.68207</td>\n",
       "      <td>-79.40405</td>\n",
       "      <td>Entire home/apt</td>\n",
       "      <td>6</td>\n",
       "      <td>1</td>\n",
       "      <td>4</td>\n",
       "      <td>0</td>\n",
       "      <td>1</td>\n",
       "      <td>9999.0</td>\n",
       "      <td>1</td>\n",
       "      <td>1</td>\n",
       "      <td>0</td>\n",
       "    </tr>\n",
       "    <tr>\n",
       "      <th>3</th>\n",
       "      <td>34471108</td>\n",
       "      <td>Welcome to my condo! Just steps away you'll fi...</td>\n",
       "      <td>0</td>\n",
       "      <td>0</td>\n",
       "      <td>Entertainment District</td>\n",
       "      <td>43.64358</td>\n",
       "      <td>-79.38160</td>\n",
       "      <td>Entire home/apt</td>\n",
       "      <td>3</td>\n",
       "      <td>1</td>\n",
       "      <td>2</td>\n",
       "      <td>20</td>\n",
       "      <td>0</td>\n",
       "      <td>9999.0</td>\n",
       "      <td>0</td>\n",
       "      <td>0</td>\n",
       "      <td>1</td>\n",
       "    </tr>\n",
       "    <tr>\n",
       "      <th>5</th>\n",
       "      <td>33983450</td>\n",
       "      <td>Luxury in the city near ravines and downtown. ...</td>\n",
       "      <td>0</td>\n",
       "      <td>0</td>\n",
       "      <td>Casa Loma</td>\n",
       "      <td>43.68080</td>\n",
       "      <td>-79.41312</td>\n",
       "      <td>Entire home/apt</td>\n",
       "      <td>5</td>\n",
       "      <td>1</td>\n",
       "      <td>3</td>\n",
       "      <td>0</td>\n",
       "      <td>1</td>\n",
       "      <td>7500.0</td>\n",
       "      <td>1</td>\n",
       "      <td>1</td>\n",
       "      <td>0</td>\n",
       "    </tr>\n",
       "    <tr>\n",
       "      <th>6</th>\n",
       "      <td>17330866</td>\n",
       "      <td>A very private room in the beautiful Toronto's...</td>\n",
       "      <td>1</td>\n",
       "      <td>1</td>\n",
       "      <td>High Park North</td>\n",
       "      <td>43.65899</td>\n",
       "      <td>-79.47807</td>\n",
       "      <td>Private room</td>\n",
       "      <td>2</td>\n",
       "      <td>1</td>\n",
       "      <td>1</td>\n",
       "      <td>34</td>\n",
       "      <td>1</td>\n",
       "      <td>5900.0</td>\n",
       "      <td>1</td>\n",
       "      <td>0</td>\n",
       "      <td>0</td>\n",
       "    </tr>\n",
       "    <tr>\n",
       "      <th>7</th>\n",
       "      <td>36311619</td>\n",
       "      <td>Luxury, custom built home located in a well de...</td>\n",
       "      <td>1</td>\n",
       "      <td>1</td>\n",
       "      <td>Willowdale</td>\n",
       "      <td>43.76654</td>\n",
       "      <td>-79.42509</td>\n",
       "      <td>Entire home/apt</td>\n",
       "      <td>8</td>\n",
       "      <td>1</td>\n",
       "      <td>1</td>\n",
       "      <td>0</td>\n",
       "      <td>1</td>\n",
       "      <td>4499.0</td>\n",
       "      <td>1</td>\n",
       "      <td>1</td>\n",
       "      <td>1</td>\n",
       "    </tr>\n",
       "    <tr>\n",
       "      <th>8</th>\n",
       "      <td>13788645</td>\n",
       "      <td>Gaze out across the top of Toronto's chic York...</td>\n",
       "      <td>0</td>\n",
       "      <td>1</td>\n",
       "      <td>The Annex</td>\n",
       "      <td>43.67174</td>\n",
       "      <td>-79.39218</td>\n",
       "      <td>Entire home/apt</td>\n",
       "      <td>3</td>\n",
       "      <td>1</td>\n",
       "      <td>1</td>\n",
       "      <td>14</td>\n",
       "      <td>0</td>\n",
       "      <td>4000.0</td>\n",
       "      <td>1</td>\n",
       "      <td>1</td>\n",
       "      <td>1</td>\n",
       "    </tr>\n",
       "    <tr>\n",
       "      <th>10</th>\n",
       "      <td>18525305</td>\n",
       "      <td>Built circa 1930, this elegant and updated For...</td>\n",
       "      <td>0</td>\n",
       "      <td>0</td>\n",
       "      <td>Forest Hill</td>\n",
       "      <td>43.70323</td>\n",
       "      <td>-79.42418</td>\n",
       "      <td>Entire home/apt</td>\n",
       "      <td>6</td>\n",
       "      <td>1</td>\n",
       "      <td>7</td>\n",
       "      <td>0</td>\n",
       "      <td>0</td>\n",
       "      <td>3571.0</td>\n",
       "      <td>1</td>\n",
       "      <td>1</td>\n",
       "      <td>0</td>\n",
       "    </tr>\n",
       "  </tbody>\n",
       "</table>\n",
       "</div>"
      ],
      "text/plain": [
       "          id                                        description  \\\n",
       "0   16039481  This gorgeous penthouse will have you living l...   \n",
       "1   20653172  Modern unit in a brand new, desirable building...   \n",
       "2   34470470  Professionally decorated home in an upscale bu...   \n",
       "4   36042527  Near the CN tower , eaton centre and other var...   \n",
       "3   34471108  Welcome to my condo! Just steps away you'll fi...   \n",
       "5   33983450  Luxury in the city near ravines and downtown. ...   \n",
       "6   17330866  A very private room in the beautiful Toronto's...   \n",
       "7   36311619  Luxury, custom built home located in a well de...   \n",
       "8   13788645  Gaze out across the top of Toronto's chic York...   \n",
       "10  18525305  Built circa 1930, this elegant and updated For...   \n",
       "\n",
       "    host_is_superhost  host_identity_verified           neighbourhood  \\\n",
       "0                   0                       0               The Annex   \n",
       "1                   0                       0        Downtown Toronto   \n",
       "2                   0                       0            Harbourfront   \n",
       "4                   0                       0    South Hill/Rathnelly   \n",
       "3                   0                       0  Entertainment District   \n",
       "5                   0                       0               Casa Loma   \n",
       "6                   1                       1         High Park North   \n",
       "7                   1                       1              Willowdale   \n",
       "8                   0                       1               The Annex   \n",
       "10                  0                       0             Forest Hill   \n",
       "\n",
       "    latitude  longitude        room_type  beds  Is_Real_Bed  minimum_nights  \\\n",
       "0   43.67052  -79.39405  Entire home/apt     4            1               1   \n",
       "1   43.64906  -79.39130  Entire home/apt     1            1               2   \n",
       "2   43.64143  -79.37968  Entire home/apt     2            1               2   \n",
       "4   43.68207  -79.40405  Entire home/apt     6            1               4   \n",
       "3   43.64358  -79.38160  Entire home/apt     3            1               2   \n",
       "5   43.68080  -79.41312  Entire home/apt     5            1               3   \n",
       "6   43.65899  -79.47807     Private room     2            1               1   \n",
       "7   43.76654  -79.42509  Entire home/apt     8            1               1   \n",
       "8   43.67174  -79.39218  Entire home/apt     3            1               1   \n",
       "10  43.70323  -79.42418  Entire home/apt     6            1               7   \n",
       "\n",
       "    number_of_reviews  instant_bookable    price  more_than_one_bathroom  \\\n",
       "0                   0                 0  13078.0                       1   \n",
       "1                   4                 0  13000.0                       0   \n",
       "2                  10                 0   9999.0                       0   \n",
       "4                   0                 1   9999.0                       1   \n",
       "3                  20                 0   9999.0                       0   \n",
       "5                   0                 1   7500.0                       1   \n",
       "6                  34                 1   5900.0                       1   \n",
       "7                   0                 1   4499.0                       1   \n",
       "8                  14                 0   4000.0                       1   \n",
       "10                  0                 0   3571.0                       1   \n",
       "\n",
       "    more_than_one_bedroom  allow_guests  \n",
       "0                       1             0  \n",
       "1                       0             0  \n",
       "2                       1             1  \n",
       "4                       1             0  \n",
       "3                       0             1  \n",
       "5                       1             0  \n",
       "6                       0             0  \n",
       "7                       1             1  \n",
       "8                       1             1  \n",
       "10                      1             0  "
      ]
     },
     "execution_count": 116,
     "metadata": {},
     "output_type": "execute_result"
    }
   ],
   "source": [
    "# the most pricey airbnb listing the Toronto area\n",
    "df_2019.loc[df_2019['price'].idxmax()]\n",
    "df_2019.sort_values('price',ascending=False).iloc[:10,]"
   ]
  },
  {
   "cell_type": "markdown",
   "metadata": {},
   "source": [
    "as we expected the top 10 expensive Airbnb in Toronto area are mostly provided the Entire home/apt, and not all of them are instant bookable which make sence, the hosts need more time to prepare the place.\n",
    "the average price are more than $5000, majarty of them provide more than one bedroom and bathrooms, and allowing guests."
   ]
  },
  {
   "cell_type": "code",
   "execution_count": 117,
   "metadata": {},
   "outputs": [
    {
     "data": {
      "text/html": [
       "<div>\n",
       "<style scoped>\n",
       "    .dataframe tbody tr th:only-of-type {\n",
       "        vertical-align: middle;\n",
       "    }\n",
       "\n",
       "    .dataframe tbody tr th {\n",
       "        vertical-align: top;\n",
       "    }\n",
       "\n",
       "    .dataframe thead th {\n",
       "        text-align: right;\n",
       "    }\n",
       "</style>\n",
       "<table border=\"1\" class=\"dataframe\">\n",
       "  <thead>\n",
       "    <tr style=\"text-align: right;\">\n",
       "      <th></th>\n",
       "      <th>id</th>\n",
       "      <th>description</th>\n",
       "      <th>host_is_superhost</th>\n",
       "      <th>host_identity_verified</th>\n",
       "      <th>neighbourhood</th>\n",
       "      <th>latitude</th>\n",
       "      <th>longitude</th>\n",
       "      <th>room_type</th>\n",
       "      <th>beds</th>\n",
       "      <th>Is_Real_Bed</th>\n",
       "      <th>minimum_nights</th>\n",
       "      <th>number_of_reviews</th>\n",
       "      <th>instant_bookable</th>\n",
       "      <th>price</th>\n",
       "      <th>more_than_one_bathroom</th>\n",
       "      <th>more_than_one_bedroom</th>\n",
       "      <th>allow_guests</th>\n",
       "    </tr>\n",
       "  </thead>\n",
       "  <tbody>\n",
       "    <tr>\n",
       "      <th>21311</th>\n",
       "      <td>20715061</td>\n",
       "      <td>Our place is located at Don Mills &amp; Finch. Jus...</td>\n",
       "      <td>0</td>\n",
       "      <td>0</td>\n",
       "      <td>Hillcrest Village</td>\n",
       "      <td>43.80187</td>\n",
       "      <td>-79.34827</td>\n",
       "      <td>Private room</td>\n",
       "      <td>1</td>\n",
       "      <td>1</td>\n",
       "      <td>1</td>\n",
       "      <td>28</td>\n",
       "      <td>0</td>\n",
       "      <td>0.0</td>\n",
       "      <td>0</td>\n",
       "      <td>0</td>\n",
       "      <td>1</td>\n",
       "    </tr>\n",
       "    <tr>\n",
       "      <th>21308</th>\n",
       "      <td>20235002</td>\n",
       "      <td>Fully furnished one-bedroom ready for your sta...</td>\n",
       "      <td>0</td>\n",
       "      <td>0</td>\n",
       "      <td>Little Portugal</td>\n",
       "      <td>43.64350</td>\n",
       "      <td>-79.42757</td>\n",
       "      <td>Entire home/apt</td>\n",
       "      <td>0</td>\n",
       "      <td>1</td>\n",
       "      <td>3</td>\n",
       "      <td>7</td>\n",
       "      <td>1</td>\n",
       "      <td>0.0</td>\n",
       "      <td>0</td>\n",
       "      <td>0</td>\n",
       "      <td>0</td>\n",
       "    </tr>\n",
       "    <tr>\n",
       "      <th>21310</th>\n",
       "      <td>20579837</td>\n",
       "      <td>Quiet, trendy home located 5 minutes walk from...</td>\n",
       "      <td>0</td>\n",
       "      <td>1</td>\n",
       "      <td>Dovercourt Park</td>\n",
       "      <td>43.66675</td>\n",
       "      <td>-79.43159</td>\n",
       "      <td>Entire home/apt</td>\n",
       "      <td>2</td>\n",
       "      <td>1</td>\n",
       "      <td>30</td>\n",
       "      <td>0</td>\n",
       "      <td>0</td>\n",
       "      <td>0.0</td>\n",
       "      <td>0</td>\n",
       "      <td>1</td>\n",
       "      <td>0</td>\n",
       "    </tr>\n",
       "    <tr>\n",
       "      <th>21309</th>\n",
       "      <td>20350463</td>\n",
       "      <td>Managed by a professional property management ...</td>\n",
       "      <td>0</td>\n",
       "      <td>1</td>\n",
       "      <td>Agincourt</td>\n",
       "      <td>43.81379</td>\n",
       "      <td>-79.27218</td>\n",
       "      <td>Private room</td>\n",
       "      <td>1</td>\n",
       "      <td>1</td>\n",
       "      <td>5</td>\n",
       "      <td>29</td>\n",
       "      <td>1</td>\n",
       "      <td>0.0</td>\n",
       "      <td>0</td>\n",
       "      <td>0</td>\n",
       "      <td>0</td>\n",
       "    </tr>\n",
       "    <tr>\n",
       "      <th>21297</th>\n",
       "      <td>22262372</td>\n",
       "      <td>A cozy 2 bedroom condo in a quite neighborhood...</td>\n",
       "      <td>0</td>\n",
       "      <td>0</td>\n",
       "      <td>Willowdale</td>\n",
       "      <td>43.76621</td>\n",
       "      <td>-79.41287</td>\n",
       "      <td>Private room</td>\n",
       "      <td>3</td>\n",
       "      <td>1</td>\n",
       "      <td>1</td>\n",
       "      <td>0</td>\n",
       "      <td>0</td>\n",
       "      <td>13.0</td>\n",
       "      <td>0</td>\n",
       "      <td>0</td>\n",
       "      <td>0</td>\n",
       "    </tr>\n",
       "    <tr>\n",
       "      <th>21298</th>\n",
       "      <td>22345053</td>\n",
       "      <td>Enjoy the luxurious condo living and the stunn...</td>\n",
       "      <td>1</td>\n",
       "      <td>1</td>\n",
       "      <td>Downtown Toronto</td>\n",
       "      <td>43.64996</td>\n",
       "      <td>-79.38751</td>\n",
       "      <td>Entire home/apt</td>\n",
       "      <td>2</td>\n",
       "      <td>1</td>\n",
       "      <td>5</td>\n",
       "      <td>33</td>\n",
       "      <td>0</td>\n",
       "      <td>13.0</td>\n",
       "      <td>0</td>\n",
       "      <td>0</td>\n",
       "      <td>1</td>\n",
       "    </tr>\n",
       "    <tr>\n",
       "      <th>21299</th>\n",
       "      <td>24856616</td>\n",
       "      <td>Condo located across Bayview station and in fr...</td>\n",
       "      <td>0</td>\n",
       "      <td>1</td>\n",
       "      <td>Henry Farm</td>\n",
       "      <td>43.76550</td>\n",
       "      <td>-79.38431</td>\n",
       "      <td>Entire home/apt</td>\n",
       "      <td>3</td>\n",
       "      <td>1</td>\n",
       "      <td>6</td>\n",
       "      <td>8</td>\n",
       "      <td>0</td>\n",
       "      <td>13.0</td>\n",
       "      <td>0</td>\n",
       "      <td>1</td>\n",
       "      <td>1</td>\n",
       "    </tr>\n",
       "    <tr>\n",
       "      <th>21300</th>\n",
       "      <td>25404173</td>\n",
       "      <td>Our home is ready to use for the guest it's pr...</td>\n",
       "      <td>0</td>\n",
       "      <td>0</td>\n",
       "      <td>Malvern</td>\n",
       "      <td>43.81184</td>\n",
       "      <td>-79.22869</td>\n",
       "      <td>Private room</td>\n",
       "      <td>1</td>\n",
       "      <td>1</td>\n",
       "      <td>5</td>\n",
       "      <td>3</td>\n",
       "      <td>0</td>\n",
       "      <td>13.0</td>\n",
       "      <td>0</td>\n",
       "      <td>0</td>\n",
       "      <td>0</td>\n",
       "    </tr>\n",
       "    <tr>\n",
       "      <th>21301</th>\n",
       "      <td>30235108</td>\n",
       "      <td>Cozy, quiet, and modern space with queen bed i...</td>\n",
       "      <td>0</td>\n",
       "      <td>0</td>\n",
       "      <td>Niagara</td>\n",
       "      <td>43.63787</td>\n",
       "      <td>-79.40116</td>\n",
       "      <td>Entire home/apt</td>\n",
       "      <td>2</td>\n",
       "      <td>1</td>\n",
       "      <td>3</td>\n",
       "      <td>2</td>\n",
       "      <td>0</td>\n",
       "      <td>13.0</td>\n",
       "      <td>0</td>\n",
       "      <td>0</td>\n",
       "      <td>0</td>\n",
       "    </tr>\n",
       "    <tr>\n",
       "      <th>21307</th>\n",
       "      <td>34560378</td>\n",
       "      <td>Welcome to our Home:)Offering clean&amp;cozy rooms...</td>\n",
       "      <td>1</td>\n",
       "      <td>0</td>\n",
       "      <td>Malvern</td>\n",
       "      <td>43.80550</td>\n",
       "      <td>-79.22673</td>\n",
       "      <td>Shared room</td>\n",
       "      <td>1</td>\n",
       "      <td>1</td>\n",
       "      <td>1</td>\n",
       "      <td>0</td>\n",
       "      <td>1</td>\n",
       "      <td>13.0</td>\n",
       "      <td>0</td>\n",
       "      <td>0</td>\n",
       "      <td>0</td>\n",
       "    </tr>\n",
       "  </tbody>\n",
       "</table>\n",
       "</div>"
      ],
      "text/plain": [
       "             id                                        description  \\\n",
       "21311  20715061  Our place is located at Don Mills & Finch. Jus...   \n",
       "21308  20235002  Fully furnished one-bedroom ready for your sta...   \n",
       "21310  20579837  Quiet, trendy home located 5 minutes walk from...   \n",
       "21309  20350463  Managed by a professional property management ...   \n",
       "21297  22262372  A cozy 2 bedroom condo in a quite neighborhood...   \n",
       "21298  22345053  Enjoy the luxurious condo living and the stunn...   \n",
       "21299  24856616  Condo located across Bayview station and in fr...   \n",
       "21300  25404173  Our home is ready to use for the guest it's pr...   \n",
       "21301  30235108  Cozy, quiet, and modern space with queen bed i...   \n",
       "21307  34560378  Welcome to our Home:)Offering clean&cozy rooms...   \n",
       "\n",
       "       host_is_superhost  host_identity_verified      neighbourhood  latitude  \\\n",
       "21311                  0                       0  Hillcrest Village  43.80187   \n",
       "21308                  0                       0    Little Portugal  43.64350   \n",
       "21310                  0                       1    Dovercourt Park  43.66675   \n",
       "21309                  0                       1          Agincourt  43.81379   \n",
       "21297                  0                       0         Willowdale  43.76621   \n",
       "21298                  1                       1   Downtown Toronto  43.64996   \n",
       "21299                  0                       1         Henry Farm  43.76550   \n",
       "21300                  0                       0            Malvern  43.81184   \n",
       "21301                  0                       0            Niagara  43.63787   \n",
       "21307                  1                       0            Malvern  43.80550   \n",
       "\n",
       "       longitude        room_type  beds  Is_Real_Bed  minimum_nights  \\\n",
       "21311  -79.34827     Private room     1            1               1   \n",
       "21308  -79.42757  Entire home/apt     0            1               3   \n",
       "21310  -79.43159  Entire home/apt     2            1              30   \n",
       "21309  -79.27218     Private room     1            1               5   \n",
       "21297  -79.41287     Private room     3            1               1   \n",
       "21298  -79.38751  Entire home/apt     2            1               5   \n",
       "21299  -79.38431  Entire home/apt     3            1               6   \n",
       "21300  -79.22869     Private room     1            1               5   \n",
       "21301  -79.40116  Entire home/apt     2            1               3   \n",
       "21307  -79.22673      Shared room     1            1               1   \n",
       "\n",
       "       number_of_reviews  instant_bookable  price  more_than_one_bathroom  \\\n",
       "21311                 28                 0    0.0                       0   \n",
       "21308                  7                 1    0.0                       0   \n",
       "21310                  0                 0    0.0                       0   \n",
       "21309                 29                 1    0.0                       0   \n",
       "21297                  0                 0   13.0                       0   \n",
       "21298                 33                 0   13.0                       0   \n",
       "21299                  8                 0   13.0                       0   \n",
       "21300                  3                 0   13.0                       0   \n",
       "21301                  2                 0   13.0                       0   \n",
       "21307                  0                 1   13.0                       0   \n",
       "\n",
       "       more_than_one_bedroom  allow_guests  \n",
       "21311                      0             1  \n",
       "21308                      0             0  \n",
       "21310                      1             0  \n",
       "21309                      0             0  \n",
       "21297                      0             0  \n",
       "21298                      0             1  \n",
       "21299                      1             1  \n",
       "21300                      0             0  \n",
       "21301                      0             0  \n",
       "21307                      0             0  "
      ]
     },
     "execution_count": 117,
     "metadata": {},
     "output_type": "execute_result"
    }
   ],
   "source": [
    "# the most afforadble airbnb listing the Toronto area\n",
    "df_2019.loc[df_2019['price'].idxmax()]\n",
    "df_2019.sort_values('price',ascending=True).iloc[:10,]"
   ]
  },
  {
   "cell_type": "markdown",
   "metadata": {},
   "source": [
    "uhnn, seems like there're some pricing errors in the dataset that we need to do futher analysis.\n",
    "obiuvsly price = 0 lists are errors we need to remove them.\n",
    "\n",
    "Also those under $50 could be people are only renting out their parking spaces."
   ]
  },
  {
   "cell_type": "code",
   "execution_count": 118,
   "metadata": {
    "scrolled": true
   },
   "outputs": [
    {
     "data": {
      "image/png": "[encoded data removed]",
      "text/plain": [
       "<Figure size 1080x360 with 1 Axes>"
      ]
     },
     "metadata": {
      "needs_background": "light"
     },
     "output_type": "display_data"
    }
   ],
   "source": [
    "# ploting overall price\n",
    "plt.figure(figsize=(15,5))\n",
    "plt.hist(df_2019[\"price\"])\n",
    "plt.show()"
   ]
  },
  {
   "cell_type": "markdown",
   "metadata": {},
   "source": [
    "looks like the majarty of rental price are under $1500.\n",
    "\n",
    "let's take a close look:"
   ]
  },
  {
   "cell_type": "code",
   "execution_count": 119,
   "metadata": {},
   "outputs": [
    {
     "name": "stderr",
     "output_type": "stream",
     "text": [
      "C:\\Users\\Tao\\anaconda3\\envs\\geo_env\\lib\\site-packages\\seaborn\\distributions.py:2557: FutureWarning: `distplot` is a deprecated function and will be removed in a future version. Please adapt your code to use either `displot` (a figure-level function with similar flexibility) or `histplot` (an axes-level function for histograms).\n",
      "  warnings.warn(msg, FutureWarning)\n"
     ]
    },
    {
     "data": {
      "text/plain": [
       "144.53262011653453"
      ]
     },
     "execution_count": 119,
     "metadata": {},
     "output_type": "execute_result"
    },
    {
     "data": {
      "image/png": "[encoded data removed]",
      "text/plain": [
       "<Figure size 432x288 with 1 Axes>"
      ]
     },
     "metadata": {
      "needs_background": "light"
     },
     "output_type": "display_data"
    }
   ],
   "source": [
    "# create a visualization for the price distribution under $1500\n",
    "sns.distplot(df_2019.price)\n",
    "plt.xlim(0,1500)\n",
    "df_2019.price.mean()"
   ]
  },
  {
   "cell_type": "markdown",
   "metadata": {},
   "source": [
    "The average listing price of Toronto airbnb based on the 2019 dataset we've collected is around $144 per night.\n",
    "\n",
    "and tho. the histogram, we can see that most of the options were priced between 50 to 300 dollars per night."
   ]
  },
  {
   "cell_type": "markdown",
   "metadata": {},
   "source": [
    "##### average price by neighbourhood"
   ]
  },
  {
   "cell_type": "code",
   "execution_count": 121,
   "metadata": {},
   "outputs": [],
   "source": [
    "avg_price_neighbourhood = df_2019.groupby(\"neighbourhood\").agg(\"mean\")[\"price\"].reset_index()"
   ]
  },
  {
   "cell_type": "code",
   "execution_count": 122,
   "metadata": {},
   "outputs": [
    {
     "data": {
      "text/html": [
       "<div>\n",
       "<style scoped>\n",
       "    .dataframe tbody tr th:only-of-type {\n",
       "        vertical-align: middle;\n",
       "    }\n",
       "\n",
       "    .dataframe tbody tr th {\n",
       "        vertical-align: top;\n",
       "    }\n",
       "\n",
       "    .dataframe thead th {\n",
       "        text-align: right;\n",
       "    }\n",
       "</style>\n",
       "<table border=\"1\" class=\"dataframe\">\n",
       "  <thead>\n",
       "    <tr style=\"text-align: right;\">\n",
       "      <th></th>\n",
       "      <th>neighbourhood</th>\n",
       "      <th>price</th>\n",
       "    </tr>\n",
       "  </thead>\n",
       "  <tbody>\n",
       "    <tr>\n",
       "      <th>12</th>\n",
       "      <td>Casa Loma</td>\n",
       "      <td>365.823529</td>\n",
       "    </tr>\n",
       "    <tr>\n",
       "      <th>105</th>\n",
       "      <td>South Hill/Rathnelly</td>\n",
       "      <td>357.156863</td>\n",
       "    </tr>\n",
       "    <tr>\n",
       "      <th>121</th>\n",
       "      <td>Toronto Islands</td>\n",
       "      <td>329.833333</td>\n",
       "    </tr>\n",
       "    <tr>\n",
       "      <th>108</th>\n",
       "      <td>Sunnybrook</td>\n",
       "      <td>326.217391</td>\n",
       "    </tr>\n",
       "    <tr>\n",
       "      <th>38</th>\n",
       "      <td>Forest Hill</td>\n",
       "      <td>246.333333</td>\n",
       "    </tr>\n",
       "    <tr>\n",
       "      <th>...</th>\n",
       "      <td>...</td>\n",
       "      <td>...</td>\n",
       "    </tr>\n",
       "    <tr>\n",
       "      <th>72</th>\n",
       "      <td>Morningside Heights</td>\n",
       "      <td>57.500000</td>\n",
       "    </tr>\n",
       "    <tr>\n",
       "      <th>125</th>\n",
       "      <td>West Hill</td>\n",
       "      <td>57.081081</td>\n",
       "    </tr>\n",
       "    <tr>\n",
       "      <th>65</th>\n",
       "      <td>Malvern</td>\n",
       "      <td>56.744444</td>\n",
       "    </tr>\n",
       "    <tr>\n",
       "      <th>55</th>\n",
       "      <td>Jane and Finch</td>\n",
       "      <td>54.294118</td>\n",
       "    </tr>\n",
       "    <tr>\n",
       "      <th>6</th>\n",
       "      <td>Beachborough</td>\n",
       "      <td>41.000000</td>\n",
       "    </tr>\n",
       "  </tbody>\n",
       "</table>\n",
       "<p>140 rows × 2 columns</p>\n",
       "</div>"
      ],
      "text/plain": [
       "            neighbourhood       price\n",
       "12              Casa Loma  365.823529\n",
       "105  South Hill/Rathnelly  357.156863\n",
       "121       Toronto Islands  329.833333\n",
       "108            Sunnybrook  326.217391\n",
       "38            Forest Hill  246.333333\n",
       "..                    ...         ...\n",
       "72    Morningside Heights   57.500000\n",
       "125             West Hill   57.081081\n",
       "65                Malvern   56.744444\n",
       "55         Jane and Finch   54.294118\n",
       "6            Beachborough   41.000000\n",
       "\n",
       "[140 rows x 2 columns]"
      ]
     },
     "execution_count": 122,
     "metadata": {},
     "output_type": "execute_result"
    }
   ],
   "source": [
    "avg_price_neighbourhood.sort_values('price', ascending=False)"
   ]
  },
  {
   "cell_type": "markdown",
   "metadata": {},
   "source": [
    "##### Maping"
   ]
  },
  {
   "cell_type": "code",
   "execution_count": 123,
   "metadata": {},
   "outputs": [],
   "source": [
    "import os\n",
    "import geopandas as gpd\n",
    "import folium\n",
    "from folium import Choropleth, Circle, Marker\n",
    "from folium.plugins import HeatMap, MarkerCluster\n",
    "import math"
   ]
  },
  {
   "cell_type": "code",
   "execution_count": 124,
   "metadata": {},
   "outputs": [
    {
     "name": "stderr",
     "output_type": "stream",
     "text": [
      "C:\\Users\\Tao\\anaconda3\\envs\\geo_env\\lib\\site-packages\\pyproj\\crs\\crs.py:53: FutureWarning: '+init=<authority>:<code>' syntax is deprecated. '<authority>:<code>' is the preferred initialization method. When making the change, be mindful of axis order changes: https://pyproj4.github.io/pyproj/stable/gotchas.html#axis-order-changes-in-proj-6\n",
      "  return _prepare_from_string(\" \".join(pjargs))\n"
     ]
    }
   ],
   "source": [
    "tobnb = gpd.GeoDataFrame(df_2019, geometry = gpd.points_from_xy(df_2019.longitude,df_2019.latitude))\n",
    "# to blur the PII from the dataset\n",
    "tobnb.drop(['id','description'],axis=1,inplace=True)\n",
    "tobnb.crs = {'init': 'epsg:4326'}"
   ]
  },
  {
   "cell_type": "code",
   "execution_count": 125,
   "metadata": {},
   "outputs": [
    {
     "data": {
      "image/png": "[encoded data removed]",
      "text/plain": [
       "<Figure size 1440x1440 with 1 Axes>"
      ]
     },
     "metadata": {
      "needs_background": "light"
     },
     "output_type": "display_data"
    }
   ],
   "source": [
    "# an unoptimized map where you can roughly see Toronto GTA's shape\n",
    "d_map = tobnb.plot(figsize=(20,20))"
   ]
  },
  {
   "cell_type": "code",
   "execution_count": 126,
   "metadata": {},
   "outputs": [],
   "source": [
    "# Visualizing listings based on longitude and latitude\n",
    "def embed_map(m, file_name):\n",
    "    from IPython.display import IFrame\n",
    "    m.save(file_name)\n",
    "    return IFrame(file_name, width='100%', height='300px')"
   ]
  },
  {
   "cell_type": "code",
   "execution_count": 127,
   "metadata": {},
   "outputs": [
    {
     "data": {
      "text/html": [
       "\n",
       "        <iframe\n",
       "            width=\"100%\"\n",
       "            height=\"300px\"\n",
       "            src=\"im.html\"\n",
       "            frameborder=\"0\"\n",
       "            allowfullscreen\n",
       "        ></iframe>\n",
       "        "
      ],
      "text/plain": [
       "<IPython.lib.display.IFrame at 0x1d75902b790>"
      ]
     },
     "execution_count": 127,
     "metadata": {},
     "output_type": "execute_result"
    }
   ],
   "source": [
    "# create a map\n",
    "im = folium.Map(location=[43.6532,-79.3832], tiles='openstreetmap', zoom_start=13)\n",
    "embed_map(im, 'im.html')"
   ]
  },
  {
   "cell_type": "code",
   "execution_count": 128,
   "metadata": {},
   "outputs": [
    {
     "data": {
      "text/html": [
       "\n",
       "        <iframe\n",
       "            width=\"100%\"\n",
       "            height=\"300px\"\n",
       "            src=\"im3.html\"\n",
       "            frameborder=\"0\"\n",
       "            allowfullscreen\n",
       "        ></iframe>\n",
       "        "
      ],
      "text/plain": [
       "<IPython.lib.display.IFrame at 0x1d754c7b2b0>"
      ]
     },
     "execution_count": 128,
     "metadata": {},
     "output_type": "execute_result"
    }
   ],
   "source": [
    "# a more human readable way than plotting every single occurence \n",
    "im3 = folium.Map(location=[43.6532,-79.3832], tiles='cartodbpositron', zoom_start=13)\n",
    "mc = MarkerCluster()\n",
    "for idx, row in tobnb.iterrows():\n",
    "    if not math.isnan(row['longitude']) and not math.isnan(row['latitude']):\n",
    "        mc.add_child(Marker([row['latitude'], row['longitude']]))\n",
    "im3.add_child(mc)\n",
    "embed_map(im3,'im3.html')"
   ]
  },
  {
   "cell_type": "code",
   "execution_count": 129,
   "metadata": {},
   "outputs": [
    {
     "data": {
      "text/html": [
       "\n",
       "        <iframe\n",
       "            width=\"100%\"\n",
       "            height=\"300px\"\n",
       "            src=\"im4.html\"\n",
       "            frameborder=\"0\"\n",
       "            allowfullscreen\n",
       "        ></iframe>\n",
       "        "
      ],
      "text/plain": [
       "<IPython.lib.display.IFrame at 0x1d756ca2fa0>"
      ]
     },
     "execution_count": 129,
     "metadata": {},
     "output_type": "execute_result"
    }
   ],
   "source": [
    "# visualization by a heatmap\n",
    "im4 = folium.Map(location=[43.6532,-79.3832], tiles='cartodbpositron', zoom_start=11)\n",
    "HeatMap(data=tobnb[['latitude','longitude']],radius=10).add_to(im4)\n",
    "embed_map(im4,'im4.html')"
   ]
  },
  {
   "cell_type": "markdown",
   "metadata": {},
   "source": [
    "maping instruction by: https://www.kaggle.com/hamiltonjie/data-exploration-on-toronto-airbnb"
   ]
  },
  {
   "cell_type": "markdown",
   "metadata": {},
   "source": [
    "From the EDA above, we looked at the distribution of the listings and price ranges. More than 70% of the 2019 Airbnb listings were around Downtown Toronto area. Also tho. the heatmap, we noticed that there were far more listings along the Yonge street or Front Lake area.\n",
    "Mostly of the reantal are price friends for a shared or a sinle room, from 100 to 300 dollars per night."
   ]
  },
  {
   "cell_type": "markdown",
   "metadata": {},
   "source": [
    "##### Quick inspection other columns"
   ]
  },
  {
   "cell_type": "code",
   "execution_count": 130,
   "metadata": {},
   "outputs": [
    {
     "data": {
      "image/png": "[encoded data removed]",
      "text/plain": [
       "<Figure size 1440x1080 with 16 Axes>"
      ]
     },
     "metadata": {
      "needs_background": "light"
     },
     "output_type": "display_data"
    }
   ],
   "source": [
    "df_2019.hist(bins=50, figsize=(20,15))\n",
    "plt.show()"
   ]
  },
  {
   "cell_type": "markdown",
   "metadata": {},
   "source": [
    "Looks like most of the data are not normally distributed. we might need to scale the datasets for a better machine learning performance."
   ]
  },
  {
   "cell_type": "code",
   "execution_count": 134,
   "metadata": {},
   "outputs": [
    {
     "data": {
      "text/html": [
       "<div>\n",
       "<style scoped>\n",
       "    .dataframe tbody tr th:only-of-type {\n",
       "        vertical-align: middle;\n",
       "    }\n",
       "\n",
       "    .dataframe tbody tr th {\n",
       "        vertical-align: top;\n",
       "    }\n",
       "\n",
       "    .dataframe thead th {\n",
       "        text-align: right;\n",
       "    }\n",
       "</style>\n",
       "<table border=\"1\" class=\"dataframe\">\n",
       "  <thead>\n",
       "    <tr style=\"text-align: right;\">\n",
       "      <th></th>\n",
       "      <th>id</th>\n",
       "      <th>description</th>\n",
       "      <th>host_is_superhost</th>\n",
       "      <th>host_identity_verified</th>\n",
       "      <th>neighbourhood</th>\n",
       "      <th>latitude</th>\n",
       "      <th>longitude</th>\n",
       "      <th>room_type</th>\n",
       "      <th>beds</th>\n",
       "      <th>Is_Real_Bed</th>\n",
       "      <th>minimum_nights</th>\n",
       "      <th>number_of_reviews</th>\n",
       "      <th>instant_bookable</th>\n",
       "      <th>price</th>\n",
       "      <th>more_than_one_bathroom</th>\n",
       "      <th>more_than_one_bedroom</th>\n",
       "      <th>allow_guests</th>\n",
       "      <th>geometry</th>\n",
       "    </tr>\n",
       "  </thead>\n",
       "  <tbody>\n",
       "    <tr>\n",
       "      <th>0</th>\n",
       "      <td>16039481</td>\n",
       "      <td>This gorgeous penthouse will have you living l...</td>\n",
       "      <td>0</td>\n",
       "      <td>0</td>\n",
       "      <td>The Annex</td>\n",
       "      <td>43.67052</td>\n",
       "      <td>-79.39405</td>\n",
       "      <td>Entire home/apt</td>\n",
       "      <td>4</td>\n",
       "      <td>1</td>\n",
       "      <td>1</td>\n",
       "      <td>0</td>\n",
       "      <td>0</td>\n",
       "      <td>13078.0</td>\n",
       "      <td>1</td>\n",
       "      <td>1</td>\n",
       "      <td>0</td>\n",
       "      <td>POINT (-79.39405 43.67052)</td>\n",
       "    </tr>\n",
       "    <tr>\n",
       "      <th>1</th>\n",
       "      <td>20653172</td>\n",
       "      <td>Modern unit in a brand new, desirable building...</td>\n",
       "      <td>0</td>\n",
       "      <td>0</td>\n",
       "      <td>Downtown Toronto</td>\n",
       "      <td>43.64906</td>\n",
       "      <td>-79.39130</td>\n",
       "      <td>Entire home/apt</td>\n",
       "      <td>1</td>\n",
       "      <td>1</td>\n",
       "      <td>2</td>\n",
       "      <td>4</td>\n",
       "      <td>0</td>\n",
       "      <td>13000.0</td>\n",
       "      <td>0</td>\n",
       "      <td>0</td>\n",
       "      <td>0</td>\n",
       "      <td>POINT (-79.39130 43.64906)</td>\n",
       "    </tr>\n",
       "    <tr>\n",
       "      <th>2</th>\n",
       "      <td>34470470</td>\n",
       "      <td>Professionally decorated home in an upscale bu...</td>\n",
       "      <td>0</td>\n",
       "      <td>0</td>\n",
       "      <td>Harbourfront</td>\n",
       "      <td>43.64143</td>\n",
       "      <td>-79.37968</td>\n",
       "      <td>Entire home/apt</td>\n",
       "      <td>2</td>\n",
       "      <td>1</td>\n",
       "      <td>2</td>\n",
       "      <td>10</td>\n",
       "      <td>0</td>\n",
       "      <td>9999.0</td>\n",
       "      <td>0</td>\n",
       "      <td>1</td>\n",
       "      <td>1</td>\n",
       "      <td>POINT (-79.37968 43.64143)</td>\n",
       "    </tr>\n",
       "    <tr>\n",
       "      <th>3</th>\n",
       "      <td>34471108</td>\n",
       "      <td>Welcome to my condo! Just steps away you'll fi...</td>\n",
       "      <td>0</td>\n",
       "      <td>0</td>\n",
       "      <td>Entertainment District</td>\n",
       "      <td>43.64358</td>\n",
       "      <td>-79.38160</td>\n",
       "      <td>Entire home/apt</td>\n",
       "      <td>3</td>\n",
       "      <td>1</td>\n",
       "      <td>2</td>\n",
       "      <td>20</td>\n",
       "      <td>0</td>\n",
       "      <td>9999.0</td>\n",
       "      <td>0</td>\n",
       "      <td>0</td>\n",
       "      <td>1</td>\n",
       "      <td>POINT (-79.38160 43.64358)</td>\n",
       "    </tr>\n",
       "    <tr>\n",
       "      <th>4</th>\n",
       "      <td>36042527</td>\n",
       "      <td>Near the CN tower , eaton centre and other var...</td>\n",
       "      <td>0</td>\n",
       "      <td>0</td>\n",
       "      <td>South Hill/Rathnelly</td>\n",
       "      <td>43.68207</td>\n",
       "      <td>-79.40405</td>\n",
       "      <td>Entire home/apt</td>\n",
       "      <td>6</td>\n",
       "      <td>1</td>\n",
       "      <td>4</td>\n",
       "      <td>0</td>\n",
       "      <td>1</td>\n",
       "      <td>9999.0</td>\n",
       "      <td>1</td>\n",
       "      <td>1</td>\n",
       "      <td>0</td>\n",
       "      <td>POINT (-79.40405 43.68207)</td>\n",
       "    </tr>\n",
       "    <tr>\n",
       "      <th>...</th>\n",
       "      <td>...</td>\n",
       "      <td>...</td>\n",
       "      <td>...</td>\n",
       "      <td>...</td>\n",
       "      <td>...</td>\n",
       "      <td>...</td>\n",
       "      <td>...</td>\n",
       "      <td>...</td>\n",
       "      <td>...</td>\n",
       "      <td>...</td>\n",
       "      <td>...</td>\n",
       "      <td>...</td>\n",
       "      <td>...</td>\n",
       "      <td>...</td>\n",
       "      <td>...</td>\n",
       "      <td>...</td>\n",
       "      <td>...</td>\n",
       "      <td>...</td>\n",
       "    </tr>\n",
       "    <tr>\n",
       "      <th>21307</th>\n",
       "      <td>34560378</td>\n",
       "      <td>Welcome to our Home:)Offering clean&amp;cozy rooms...</td>\n",
       "      <td>1</td>\n",
       "      <td>0</td>\n",
       "      <td>Malvern</td>\n",
       "      <td>43.80550</td>\n",
       "      <td>-79.22673</td>\n",
       "      <td>Shared room</td>\n",
       "      <td>1</td>\n",
       "      <td>1</td>\n",
       "      <td>1</td>\n",
       "      <td>0</td>\n",
       "      <td>1</td>\n",
       "      <td>13.0</td>\n",
       "      <td>0</td>\n",
       "      <td>0</td>\n",
       "      <td>0</td>\n",
       "      <td>POINT (-79.22673 43.80550)</td>\n",
       "    </tr>\n",
       "    <tr>\n",
       "      <th>21308</th>\n",
       "      <td>20235002</td>\n",
       "      <td>Fully furnished one-bedroom ready for your sta...</td>\n",
       "      <td>0</td>\n",
       "      <td>0</td>\n",
       "      <td>Little Portugal</td>\n",
       "      <td>43.64350</td>\n",
       "      <td>-79.42757</td>\n",
       "      <td>Entire home/apt</td>\n",
       "      <td>0</td>\n",
       "      <td>1</td>\n",
       "      <td>3</td>\n",
       "      <td>7</td>\n",
       "      <td>1</td>\n",
       "      <td>0.0</td>\n",
       "      <td>0</td>\n",
       "      <td>0</td>\n",
       "      <td>0</td>\n",
       "      <td>POINT (-79.42757 43.64350)</td>\n",
       "    </tr>\n",
       "    <tr>\n",
       "      <th>21309</th>\n",
       "      <td>20350463</td>\n",
       "      <td>Managed by a professional property management ...</td>\n",
       "      <td>0</td>\n",
       "      <td>1</td>\n",
       "      <td>Agincourt</td>\n",
       "      <td>43.81379</td>\n",
       "      <td>-79.27218</td>\n",
       "      <td>Private room</td>\n",
       "      <td>1</td>\n",
       "      <td>1</td>\n",
       "      <td>5</td>\n",
       "      <td>29</td>\n",
       "      <td>1</td>\n",
       "      <td>0.0</td>\n",
       "      <td>0</td>\n",
       "      <td>0</td>\n",
       "      <td>0</td>\n",
       "      <td>POINT (-79.27218 43.81379)</td>\n",
       "    </tr>\n",
       "    <tr>\n",
       "      <th>21310</th>\n",
       "      <td>20579837</td>\n",
       "      <td>Quiet, trendy home located 5 minutes walk from...</td>\n",
       "      <td>0</td>\n",
       "      <td>1</td>\n",
       "      <td>Dovercourt Park</td>\n",
       "      <td>43.66675</td>\n",
       "      <td>-79.43159</td>\n",
       "      <td>Entire home/apt</td>\n",
       "      <td>2</td>\n",
       "      <td>1</td>\n",
       "      <td>30</td>\n",
       "      <td>0</td>\n",
       "      <td>0</td>\n",
       "      <td>0.0</td>\n",
       "      <td>0</td>\n",
       "      <td>1</td>\n",
       "      <td>0</td>\n",
       "      <td>POINT (-79.43159 43.66675)</td>\n",
       "    </tr>\n",
       "    <tr>\n",
       "      <th>21311</th>\n",
       "      <td>20715061</td>\n",
       "      <td>Our place is located at Don Mills &amp; Finch. Jus...</td>\n",
       "      <td>0</td>\n",
       "      <td>0</td>\n",
       "      <td>Hillcrest Village</td>\n",
       "      <td>43.80187</td>\n",
       "      <td>-79.34827</td>\n",
       "      <td>Private room</td>\n",
       "      <td>1</td>\n",
       "      <td>1</td>\n",
       "      <td>1</td>\n",
       "      <td>28</td>\n",
       "      <td>0</td>\n",
       "      <td>0.0</td>\n",
       "      <td>0</td>\n",
       "      <td>0</td>\n",
       "      <td>1</td>\n",
       "      <td>POINT (-79.34827 43.80187)</td>\n",
       "    </tr>\n",
       "  </tbody>\n",
       "</table>\n",
       "<p>20938 rows × 18 columns</p>\n",
       "</div>"
      ],
      "text/plain": [
       "             id                                        description  \\\n",
       "0      16039481  This gorgeous penthouse will have you living l...   \n",
       "1      20653172  Modern unit in a brand new, desirable building...   \n",
       "2      34470470  Professionally decorated home in an upscale bu...   \n",
       "3      34471108  Welcome to my condo! Just steps away you'll fi...   \n",
       "4      36042527  Near the CN tower , eaton centre and other var...   \n",
       "...         ...                                                ...   \n",
       "21307  34560378  Welcome to our Home:)Offering clean&cozy rooms...   \n",
       "21308  20235002  Fully furnished one-bedroom ready for your sta...   \n",
       "21309  20350463  Managed by a professional property management ...   \n",
       "21310  20579837  Quiet, trendy home located 5 minutes walk from...   \n",
       "21311  20715061  Our place is located at Don Mills & Finch. Jus...   \n",
       "\n",
       "       host_is_superhost  host_identity_verified           neighbourhood  \\\n",
       "0                      0                       0               The Annex   \n",
       "1                      0                       0        Downtown Toronto   \n",
       "2                      0                       0            Harbourfront   \n",
       "3                      0                       0  Entertainment District   \n",
       "4                      0                       0    South Hill/Rathnelly   \n",
       "...                  ...                     ...                     ...   \n",
       "21307                  1                       0                 Malvern   \n",
       "21308                  0                       0         Little Portugal   \n",
       "21309                  0                       1               Agincourt   \n",
       "21310                  0                       1         Dovercourt Park   \n",
       "21311                  0                       0       Hillcrest Village   \n",
       "\n",
       "       latitude  longitude        room_type  beds  Is_Real_Bed  \\\n",
       "0      43.67052  -79.39405  Entire home/apt     4            1   \n",
       "1      43.64906  -79.39130  Entire home/apt     1            1   \n",
       "2      43.64143  -79.37968  Entire home/apt     2            1   \n",
       "3      43.64358  -79.38160  Entire home/apt     3            1   \n",
       "4      43.68207  -79.40405  Entire home/apt     6            1   \n",
       "...         ...        ...              ...   ...          ...   \n",
       "21307  43.80550  -79.22673      Shared room     1            1   \n",
       "21308  43.64350  -79.42757  Entire home/apt     0            1   \n",
       "21309  43.81379  -79.27218     Private room     1            1   \n",
       "21310  43.66675  -79.43159  Entire home/apt     2            1   \n",
       "21311  43.80187  -79.34827     Private room     1            1   \n",
       "\n",
       "       minimum_nights  number_of_reviews  instant_bookable    price  \\\n",
       "0                   1                  0                 0  13078.0   \n",
       "1                   2                  4                 0  13000.0   \n",
       "2                   2                 10                 0   9999.0   \n",
       "3                   2                 20                 0   9999.0   \n",
       "4                   4                  0                 1   9999.0   \n",
       "...               ...                ...               ...      ...   \n",
       "21307               1                  0                 1     13.0   \n",
       "21308               3                  7                 1      0.0   \n",
       "21309               5                 29                 1      0.0   \n",
       "21310              30                  0                 0      0.0   \n",
       "21311               1                 28                 0      0.0   \n",
       "\n",
       "       more_than_one_bathroom  more_than_one_bedroom  allow_guests  \\\n",
       "0                           1                      1             0   \n",
       "1                           0                      0             0   \n",
       "2                           0                      1             1   \n",
       "3                           0                      0             1   \n",
       "4                           1                      1             0   \n",
       "...                       ...                    ...           ...   \n",
       "21307                       0                      0             0   \n",
       "21308                       0                      0             0   \n",
       "21309                       0                      0             0   \n",
       "21310                       0                      1             0   \n",
       "21311                       0                      0             1   \n",
       "\n",
       "                         geometry  \n",
       "0      POINT (-79.39405 43.67052)  \n",
       "1      POINT (-79.39130 43.64906)  \n",
       "2      POINT (-79.37968 43.64143)  \n",
       "3      POINT (-79.38160 43.64358)  \n",
       "4      POINT (-79.40405 43.68207)  \n",
       "...                           ...  \n",
       "21307  POINT (-79.22673 43.80550)  \n",
       "21308  POINT (-79.42757 43.64350)  \n",
       "21309  POINT (-79.27218 43.81379)  \n",
       "21310  POINT (-79.43159 43.66675)  \n",
       "21311  POINT (-79.34827 43.80187)  \n",
       "\n",
       "[20938 rows x 18 columns]"
      ]
     },
     "execution_count": 134,
     "metadata": {},
     "output_type": "execute_result"
    }
   ],
   "source": [
    "df_2019"
   ]
  },
  {
   "cell_type": "code",
   "execution_count": 135,
   "metadata": {},
   "outputs": [],
   "source": [
    "# \"price\" drop under $50\n",
    "# ① onehot encode \"room_type\", ignore \"neighbourhood\"\n",
    "# ② sklearn - linear - scaling - piplines - begging - boosting\n",
    "# ③ NLP - scaling - basic linear - begging - boosting\n",
    "# ④ comparing ② ③"
   ]
  },
  {
   "cell_type": "code",
   "execution_count": null,
   "metadata": {},
   "outputs": [],
   "source": []
  }
 ],
 "metadata": {
  "kernelspec": {
   "display_name": "Python 3",
   "language": "python",
   "name": "python3"
  },
  "language_info": {
   "codemirror_mode": {
    "name": "ipython",
    "version": 3
   },
   "file_extension": ".py",
   "mimetype": "text/x-python",
   "name": "python",
   "nbconvert_exporter": "python",
   "pygments_lexer": "ipython3",
   "version": "3.8.6"
  }
 },
 "nbformat": 4,
 "nbformat_minor": 4
}
